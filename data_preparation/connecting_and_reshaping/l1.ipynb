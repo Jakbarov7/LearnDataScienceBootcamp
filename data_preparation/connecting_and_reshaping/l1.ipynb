{
  "cells": [
    {
      "cell_type": "markdown",
      "metadata": {
        "id": "view-in-github",
        "colab_type": "text"
      },
      "source": [
        "<a href=\"https://colab.research.google.com/github/Jakbarov7/LearnDataScienceBootcamp/blob/main/data_preparation/connecting_and_reshaping/l1.ipynb\" target=\"_parent\"><img src=\"https://colab.research.google.com/assets/colab-badge.svg\" alt=\"Open In Colab\"/></a>"
      ]
    },
    {
      "cell_type": "code",
      "execution_count": null,
      "id": "169ef4d1-6d05-40a0-9baf-45822e9ee2ac",
      "metadata": {
        "id": "169ef4d1-6d05-40a0-9baf-45822e9ee2ac"
      },
      "outputs": [],
      "source": [
        "import numpy as np\n",
        "import pandas as pd"
      ]
    },
    {
      "cell_type": "code",
      "execution_count": null,
      "id": "b6da9948-f1d7-4c94-9dfd-21c917dab458",
      "metadata": {
        "id": "b6da9948-f1d7-4c94-9dfd-21c917dab458",
        "outputId": "47cd0929-a8e5-4f4f-c48d-39737b246009"
      },
      "outputs": [
        {
          "data": {
            "text/plain": [
              "Index(['a', 'a', 'a', 'b', 'b', 'c', 'c', 'd', 'd'], dtype='object')"
            ]
          },
          "execution_count": 2,
          "metadata": {},
          "output_type": "execute_result"
        }
      ],
      "source": [
        "# odatiy indeksli Series yaratamiz\n",
        "data = pd.Series(np.random.randn(9), index=['a', 'a', 'a', 'b', 'b', 'c', 'c', 'd', 'd'])\n",
        "# indekslarni tekshiramiz\n",
        "data.index"
      ]
    },
    {
      "cell_type": "code",
      "execution_count": null,
      "id": "a0deb419-ca19-465f-8792-46a1df685216",
      "metadata": {
        "id": "a0deb419-ca19-465f-8792-46a1df685216",
        "outputId": "c54015fa-9609-44ef-ba6c-71d5da5d5346"
      },
      "outputs": [
        {
          "data": {
            "text/plain": [
              "MultiIndex([('a', 1),\n",
              "            ('a', 2),\n",
              "            ('a', 3),\n",
              "            ('b', 1),\n",
              "            ('b', 3),\n",
              "            ('c', 1),\n",
              "            ('c', 2),\n",
              "            ('d', 2),\n",
              "            ('d', 3)],\n",
              "           )"
            ]
          },
          "execution_count": 3,
          "metadata": {},
          "output_type": "execute_result"
        }
      ],
      "source": [
        "# irarxik indeksga o'tkizish\n",
        "data1 = pd.Series(np.random.randn(9),\n",
        "\t\t\t\t\t\t\t\t\tindex=[['a', 'a', 'a', 'b', 'b', 'c', 'c', 'd', 'd'], [1, 2, 3, 1, 3, 1, 2, 2, 3]])\n",
        "# data1 ni indekslarini tekshiramiz\n",
        "data1.index # MultiIndex bo'ladi"
      ]
    },
    {
      "cell_type": "code",
      "execution_count": null,
      "id": "c862c778-6175-48cf-86c2-9b95c756eba5",
      "metadata": {
        "id": "c862c778-6175-48cf-86c2-9b95c756eba5",
        "outputId": "a9d412df-4817-4e0d-8b2a-e3e63c869af8"
      },
      "outputs": [
        {
          "data": {
            "text/plain": [
              "a  1   -0.643380\n",
              "   2   -0.708233\n",
              "   3    1.717860\n",
              "b  1    0.535173\n",
              "   3    0.092986\n",
              "c  1    1.709382\n",
              "   2    0.230113\n",
              "d  2    0.123134\n",
              "   3   -0.964139\n",
              "dtype: float64"
            ]
          },
          "execution_count": 4,
          "metadata": {},
          "output_type": "execute_result"
        }
      ],
      "source": [
        "data1"
      ]
    },
    {
      "cell_type": "code",
      "execution_count": null,
      "id": "04730266-e89d-445e-be26-3674f6173b05",
      "metadata": {
        "id": "04730266-e89d-445e-be26-3674f6173b05",
        "outputId": "6ba9513e-fa8e-4ce4-f8b8-80ac276df6d2"
      },
      "outputs": [
        {
          "data": {
            "text/plain": [
              "1    0.535173\n",
              "3    0.092986\n",
              "dtype: float64"
            ]
          },
          "execution_count": 5,
          "metadata": {},
          "output_type": "execute_result"
        }
      ],
      "source": [
        "# irarxik indekslar orqali qiymatlarni olish\n",
        "data1['b']"
      ]
    },
    {
      "cell_type": "code",
      "execution_count": null,
      "id": "2d94d242-03c5-4c73-9035-1ff28335f3e5",
      "metadata": {
        "id": "2d94d242-03c5-4c73-9035-1ff28335f3e5",
        "outputId": "2df57eb2-238f-4387-b8d0-623d4c9b67d3"
      },
      "outputs": [
        {
          "data": {
            "text/plain": [
              "1   -0.643380\n",
              "2   -0.708233\n",
              "3    1.717860\n",
              "dtype: float64"
            ]
          },
          "execution_count": 6,
          "metadata": {},
          "output_type": "execute_result"
        }
      ],
      "source": [
        "data1['a']"
      ]
    },
    {
      "cell_type": "code",
      "execution_count": null,
      "id": "658ab060-31d9-41ae-8df6-fd97b561274d",
      "metadata": {
        "id": "658ab060-31d9-41ae-8df6-fd97b561274d",
        "outputId": "b250fa72-6ad1-4fcc-a9c5-74c8c05bbe4c"
      },
      "outputs": [
        {
          "data": {
            "text/plain": [
              "b  1    0.535173\n",
              "   3    0.092986\n",
              "c  1    1.709382\n",
              "   2    0.230113\n",
              "d  2    0.123134\n",
              "   3   -0.964139\n",
              "dtype: float64"
            ]
          },
          "execution_count": 7,
          "metadata": {},
          "output_type": "execute_result"
        }
      ],
      "source": [
        "# ma'lum oraliqdagi irarxiklarni kesib olish\n",
        "data1['b':'d']"
      ]
    },
    {
      "cell_type": "code",
      "execution_count": null,
      "id": "83a7cb12-ab39-4638-8ed1-92c465745c52",
      "metadata": {
        "id": "83a7cb12-ab39-4638-8ed1-92c465745c52",
        "outputId": "49702cb1-b267-49f6-c9ff-7ee575af7536"
      },
      "outputs": [
        {
          "data": {
            "text/plain": [
              "a   -0.708233\n",
              "c    0.230113\n",
              "d    0.123134\n",
              "dtype: float64"
            ]
          },
          "execution_count": 8,
          "metadata": {},
          "output_type": "execute_result"
        }
      ],
      "source": [
        "# indekslarni olish metodlari bilanam olishimiz mumkin\n",
        "data1.loc[:, 2] # hamma irarxiklarni ikkinchi indeks qiymatini olish"
      ]
    },
    {
      "cell_type": "code",
      "execution_count": null,
      "id": "7f0f1db7-8d87-466e-817b-e91a5d544888",
      "metadata": {
        "id": "7f0f1db7-8d87-466e-817b-e91a5d544888",
        "outputId": "a30a47c9-f44c-4c0e-b44b-d5e7f6ade0de"
      },
      "outputs": [
        {
          "data": {
            "text/plain": [
              "1    0.535173\n",
              "3    0.092986\n",
              "dtype: float64"
            ]
          },
          "execution_count": 10,
          "metadata": {},
          "output_type": "execute_result"
        }
      ],
      "source": [
        "data1.loc['b', :]"
      ]
    },
    {
      "cell_type": "code",
      "execution_count": null,
      "id": "b91a0051-da41-4ce7-a028-9b02830b8a9e",
      "metadata": {
        "id": "b91a0051-da41-4ce7-a028-9b02830b8a9e",
        "outputId": "acd8440d-e556-42e2-b28a-79ec8e51295d"
      },
      "outputs": [
        {
          "data": {
            "text/plain": [
              "0.23011294900366197"
            ]
          },
          "execution_count": 16,
          "metadata": {},
          "output_type": "execute_result"
        }
      ],
      "source": [
        "data1.loc['c', 2]"
      ]
    },
    {
      "cell_type": "code",
      "execution_count": null,
      "id": "4408abf7-99a7-4109-bc73-49d21e388059",
      "metadata": {
        "id": "4408abf7-99a7-4109-bc73-49d21e388059",
        "outputId": "c3a1faa1-ac39-4e74-ca72-5910c1caf8bc"
      },
      "outputs": [
        {
          "data": {
            "text/plain": [
              "a  1   -0.643380\n",
              "   2   -0.708233\n",
              "   3    1.717860\n",
              "d  2    0.123134\n",
              "   3   -0.964139\n",
              "dtype: float64"
            ]
          },
          "execution_count": 17,
          "metadata": {},
          "output_type": "execute_result"
        }
      ],
      "source": [
        "data1.loc[['a', 'd']]"
      ]
    }
  ],
  "metadata": {
    "kernelspec": {
      "display_name": "Python 3 (ipykernel)",
      "language": "python",
      "name": "python3"
    },
    "language_info": {
      "codemirror_mode": {
        "name": "ipython",
        "version": 3
      },
      "file_extension": ".py",
      "mimetype": "text/x-python",
      "name": "python",
      "nbconvert_exporter": "python",
      "pygments_lexer": "ipython3",
      "version": "3.11.7"
    },
    "colab": {
      "provenance": [],
      "include_colab_link": true
    }
  },
  "nbformat": 4,
  "nbformat_minor": 5
}