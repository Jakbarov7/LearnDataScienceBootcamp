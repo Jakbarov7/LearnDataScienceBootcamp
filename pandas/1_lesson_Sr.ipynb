{
  "nbformat": 4,
  "nbformat_minor": 0,
  "metadata": {
    "colab": {
      "provenance": [],
      "authorship_tag": "ABX9TyONtExddARjVUgE0DvCGgPn",
      "include_colab_link": true
    },
    "kernelspec": {
      "name": "python3",
      "display_name": "Python 3"
    },
    "language_info": {
      "name": "python"
    }
  },
  "cells": [
    {
      "cell_type": "markdown",
      "metadata": {
        "id": "view-in-github",
        "colab_type": "text"
      },
      "source": [
        "<a href=\"https://colab.research.google.com/github/Jakbarov7/LearnDataScienceBootcamp/blob/main/pandas/1_lesson_Sr.ipynb\" target=\"_parent\"><img src=\"https://colab.research.google.com/assets/colab-badge.svg\" alt=\"Open In Colab\"/></a>"
      ]
    },
    {
      "cell_type": "code",
      "execution_count": 1,
      "metadata": {
        "id": "3pp8PEGTMDXr"
      },
      "outputs": [],
      "source": [
        "import numpy as np\n",
        "import pandas as pd"
      ]
    },
    {
      "cell_type": "code",
      "source": [
        "# Series yaratish\n",
        "obj = pd.Series([1, 2.2, -3, -4.5, 5])\n",
        "obj"
      ],
      "metadata": {
        "colab": {
          "base_uri": "https://localhost:8080/"
        },
        "id": "-pMf4cRFMJRD",
        "outputId": "7654313a-1016-4e08-b5ec-1a653515f729"
      },
      "execution_count": 2,
      "outputs": [
        {
          "output_type": "execute_result",
          "data": {
            "text/plain": [
              "0    1.0\n",
              "1    2.2\n",
              "2   -3.0\n",
              "3   -4.5\n",
              "4    5.0\n",
              "dtype: float64"
            ]
          },
          "metadata": {},
          "execution_count": 2
        }
      ]
    },
    {
      "cell_type": "code",
      "source": [
        "# faqat qiymatlarini olish\n",
        "obj.values"
      ],
      "metadata": {
        "colab": {
          "base_uri": "https://localhost:8080/"
        },
        "id": "WtkE-bTwMmDr",
        "outputId": "4ce1c202-7fbd-46e6-d9a6-3696a7df19ef"
      },
      "execution_count": 3,
      "outputs": [
        {
          "output_type": "execute_result",
          "data": {
            "text/plain": [
              "array([ 1. ,  2.2, -3. , -4.5,  5. ])"
            ]
          },
          "metadata": {},
          "execution_count": 3
        }
      ]
    },
    {
      "cell_type": "code",
      "source": [
        "# faqat indekslarini olish\n",
        "obj.index"
      ],
      "metadata": {
        "colab": {
          "base_uri": "https://localhost:8080/"
        },
        "id": "a1vU2DAIM7tZ",
        "outputId": "6c8dfeb1-1a42-4eb6-d282-5e08783c46ca"
      },
      "execution_count": 4,
      "outputs": [
        {
          "output_type": "execute_result",
          "data": {
            "text/plain": [
              "RangeIndex(start=0, stop=5, step=1)"
            ]
          },
          "metadata": {},
          "execution_count": 4
        }
      ]
    },
    {
      "cell_type": "code",
      "source": [
        "# indeks raqami orqali qiymatlarni olish\n",
        "obj[2] # -3.0 ni olamiz"
      ],
      "metadata": {
        "colab": {
          "base_uri": "https://localhost:8080/"
        },
        "id": "QCjOMMB0M-XZ",
        "outputId": "e5ab35d6-f41f-44ab-d736-8063ae647480"
      },
      "execution_count": 5,
      "outputs": [
        {
          "output_type": "execute_result",
          "data": {
            "text/plain": [
              "-3.0"
            ]
          },
          "metadata": {},
          "execution_count": 5
        }
      ]
    },
    {
      "cell_type": "code",
      "source": [
        "obj[1] #-2.2 ni oladi"
      ],
      "metadata": {
        "colab": {
          "base_uri": "https://localhost:8080/"
        },
        "id": "R86hgfRSNIjB",
        "outputId": "96a85b77-9a5b-4527-f758-9370eb59265e"
      },
      "execution_count": 7,
      "outputs": [
        {
          "output_type": "execute_result",
          "data": {
            "text/plain": [
              "2.2"
            ]
          },
          "metadata": {},
          "execution_count": 7
        }
      ]
    },
    {
      "cell_type": "code",
      "source": [
        "# indekslariga yangi qiymatlar berish orqali Sr yaratish\n",
        "obj2 = pd.Series([2, 4, 6, 8, 10], index=[11, 12, 13, 14, 15])\n",
        "obj2"
      ],
      "metadata": {
        "colab": {
          "base_uri": "https://localhost:8080/"
        },
        "id": "gs95aW63NK5h",
        "outputId": "38721440-a86f-45ed-8043-c31e4d709ff1"
      },
      "execution_count": 8,
      "outputs": [
        {
          "output_type": "execute_result",
          "data": {
            "text/plain": [
              "11     2\n",
              "12     4\n",
              "13     6\n",
              "14     8\n",
              "15    10\n",
              "dtype: int64"
            ]
          },
          "metadata": {},
          "execution_count": 8
        }
      ]
    },
    {
      "cell_type": "code",
      "source": [
        "# 4, 8 qiymatlarni olamiz\n",
        "print(obj2[12])\n",
        "print(obj2[14])"
      ],
      "metadata": {
        "colab": {
          "base_uri": "https://localhost:8080/"
        },
        "id": "nc8rLcBCNlCC",
        "outputId": "8268678e-973c-455d-c3e8-bd8f92540587"
      },
      "execution_count": 9,
      "outputs": [
        {
          "output_type": "stream",
          "name": "stdout",
          "text": [
            "4\n",
            "8\n"
          ]
        }
      ]
    },
    {
      "cell_type": "code",
      "source": [],
      "metadata": {
        "id": "iJV2UBUBNtvI"
      },
      "execution_count": null,
      "outputs": []
    }
  ]
}