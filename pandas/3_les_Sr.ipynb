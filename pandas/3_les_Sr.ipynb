{
  "nbformat": 4,
  "nbformat_minor": 0,
  "metadata": {
    "colab": {
      "provenance": [],
      "authorship_tag": "ABX9TyMVwiRDTMUeHACHSB+B2s9l",
      "include_colab_link": true
    },
    "kernelspec": {
      "name": "python3",
      "display_name": "Python 3"
    },
    "language_info": {
      "name": "python"
    }
  },
  "cells": [
    {
      "cell_type": "markdown",
      "metadata": {
        "id": "view-in-github",
        "colab_type": "text"
      },
      "source": [
        "<a href=\"https://colab.research.google.com/github/Jakbarov7/LearnDataScienceBootcamp/blob/main/pandas/3_les_Sr.ipynb\" target=\"_parent\"><img src=\"https://colab.research.google.com/assets/colab-badge.svg\" alt=\"Open In Colab\"/></a>"
      ]
    },
    {
      "cell_type": "code",
      "execution_count": 1,
      "metadata": {
        "id": "Ccd5wizVT_Ls"
      },
      "outputs": [],
      "source": [
        "import numpy as np\n",
        "import pandas as pd"
      ]
    },
    {
      "cell_type": "markdown",
      "source": [
        "#Series metodlar :\n",
        "- `.isnull()`\n",
        "- `.notnull()`\n",
        "- `.hasnans`\n",
        "- `.dtype`\n",
        "- `.is_unique`\n",
        "- `.shape`\n",
        "- `.size`\n",
        "- `.iloc`\n",
        "- `.loc[ ]`\n",
        "- `.max`\n",
        "- `.min`\n",
        "- `.mean`"
      ],
      "metadata": {
        "id": "b56gJvxgUkrd"
      }
    },
    {
      "cell_type": "code",
      "source": [
        "cars = ['Nexia2', 'Tracker', 'Jiguli', 'Onix', 'Damaz', 'Maskvich', 'Malibu', 'Cobalt', 'Monza', 'Tico', 'Gentra']\n",
        "sr3 = pd.Series({'Malibu':33000, 'Tracker':28000, 'Cobalt':11000, 'Gentra':13000, 'Onix':14500, 'Monza':18000, 'Damaz':7000, 'Nexia2':4000}, index=cars)\n",
        "sr3"
      ],
      "metadata": {
        "colab": {
          "base_uri": "https://localhost:8080/"
        },
        "id": "NuGhlFL4UDlO",
        "outputId": "dee6debb-733a-4016-bfc3-ae927e99a632"
      },
      "execution_count": 2,
      "outputs": [
        {
          "output_type": "execute_result",
          "data": {
            "text/plain": [
              "Nexia2       4000.0\n",
              "Tracker     28000.0\n",
              "Jiguli          NaN\n",
              "Onix        14500.0\n",
              "Damaz        7000.0\n",
              "Maskvich        NaN\n",
              "Malibu      33000.0\n",
              "Cobalt      11000.0\n",
              "Monza       18000.0\n",
              "Tico            NaN\n",
              "Gentra      13000.0\n",
              "dtype: float64"
            ]
          },
          "metadata": {},
          "execution_count": 2
        }
      ]
    },
    {
      "cell_type": "code",
      "source": [
        "# isnull() - nan qiymatlar bo'lsa True beradi aks holda False\n",
        "sr3.isnull()"
      ],
      "metadata": {
        "colab": {
          "base_uri": "https://localhost:8080/"
        },
        "id": "5XrxiPSiVFPg",
        "outputId": "db60b0f9-4675-4cb6-930e-64eee0d6bb79"
      },
      "execution_count": 3,
      "outputs": [
        {
          "output_type": "execute_result",
          "data": {
            "text/plain": [
              "Nexia2      False\n",
              "Tracker     False\n",
              "Jiguli       True\n",
              "Onix        False\n",
              "Damaz       False\n",
              "Maskvich     True\n",
              "Malibu      False\n",
              "Cobalt      False\n",
              "Monza       False\n",
              "Tico         True\n",
              "Gentra      False\n",
              "dtype: bool"
            ]
          },
          "metadata": {},
          "execution_count": 3
        }
      ]
    },
    {
      "cell_type": "code",
      "source": [
        "# notnull() - yuqoridagini teskarisi\n",
        "sr3.notnull()"
      ],
      "metadata": {
        "colab": {
          "base_uri": "https://localhost:8080/"
        },
        "id": "-q8uRAcnVLP_",
        "outputId": "a9a131d1-1f52-4a7e-a25e-f3e8bf6ca3ec"
      },
      "execution_count": 4,
      "outputs": [
        {
          "output_type": "execute_result",
          "data": {
            "text/plain": [
              "Nexia2       True\n",
              "Tracker      True\n",
              "Jiguli      False\n",
              "Onix         True\n",
              "Damaz        True\n",
              "Maskvich    False\n",
              "Malibu       True\n",
              "Cobalt       True\n",
              "Monza        True\n",
              "Tico        False\n",
              "Gentra       True\n",
              "dtype: bool"
            ]
          },
          "metadata": {},
          "execution_count": 4
        }
      ]
    },
    {
      "cell_type": "code",
      "source": [
        "# hasnans - NaN qiymatlar bo'lsa True beradi aks holda False\n",
        "sr3.hasnans"
      ],
      "metadata": {
        "colab": {
          "base_uri": "https://localhost:8080/"
        },
        "id": "D8x6W3cQVPb2",
        "outputId": "00bd44a9-7d48-46f8-8bfc-74f16e20a975"
      },
      "execution_count": 5,
      "outputs": [
        {
          "output_type": "execute_result",
          "data": {
            "text/plain": [
              "True"
            ]
          },
          "metadata": {},
          "execution_count": 5
        }
      ]
    },
    {
      "cell_type": "code",
      "source": [
        "# dtype - Series qaysi ma'lumot turidagiligini ko'rsatadi\n",
        "sr3.dtype"
      ],
      "metadata": {
        "colab": {
          "base_uri": "https://localhost:8080/"
        },
        "id": "DTSp7074VS-_",
        "outputId": "2edd9713-720c-41bf-a005-166fc1a4cf09"
      },
      "execution_count": 6,
      "outputs": [
        {
          "output_type": "execute_result",
          "data": {
            "text/plain": [
              "dtype('float64')"
            ]
          },
          "metadata": {},
          "execution_count": 6
        }
      ]
    },
    {
      "cell_type": "code",
      "source": [
        "# is_unique - Series qiymatlari takrorlanganmi yo'qmi , shuni tekshiradi , takrorlangan bolsa False\n",
        "sr3.is_unique"
      ],
      "metadata": {
        "colab": {
          "base_uri": "https://localhost:8080/"
        },
        "id": "LVlpzPhHVY2G",
        "outputId": "4dea489a-e371-4a20-bb92-752dc16e6e21"
      },
      "execution_count": 7,
      "outputs": [
        {
          "output_type": "execute_result",
          "data": {
            "text/plain": [
              "False"
            ]
          },
          "metadata": {},
          "execution_count": 7
        }
      ]
    },
    {
      "cell_type": "code",
      "source": [
        "# shape - Seriesni qator va ustunlarini aniqlab beradi\n",
        "sr3.shape"
      ],
      "metadata": {
        "colab": {
          "base_uri": "https://localhost:8080/"
        },
        "id": "blPodKVUVZ_e",
        "outputId": "81836a99-d7d2-43a9-f1e2-98cb202a3283"
      },
      "execution_count": 8,
      "outputs": [
        {
          "output_type": "execute_result",
          "data": {
            "text/plain": [
              "(11,)"
            ]
          },
          "metadata": {},
          "execution_count": 8
        }
      ]
    },
    {
      "cell_type": "code",
      "source": [
        "# size - qiymatlar sonini aniqliydi\n",
        "sr3.size"
      ],
      "metadata": {
        "colab": {
          "base_uri": "https://localhost:8080/"
        },
        "id": "IXYRr-kvVcAG",
        "outputId": "7e717668-cf34-43dc-9146-d2846ecf0ab0"
      },
      "execution_count": 9,
      "outputs": [
        {
          "output_type": "execute_result",
          "data": {
            "text/plain": [
              "11"
            ]
          },
          "metadata": {},
          "execution_count": 9
        }
      ]
    },
    {
      "cell_type": "code",
      "source": [
        "sr3"
      ],
      "metadata": {
        "colab": {
          "base_uri": "https://localhost:8080/"
        },
        "id": "ngyIbwOVWoq3",
        "outputId": "9c1b771f-4f55-4e01-c268-11555c780013"
      },
      "execution_count": 10,
      "outputs": [
        {
          "output_type": "execute_result",
          "data": {
            "text/plain": [
              "Nexia2       4000.0\n",
              "Tracker     28000.0\n",
              "Jiguli          NaN\n",
              "Onix        14500.0\n",
              "Damaz        7000.0\n",
              "Maskvich        NaN\n",
              "Malibu      33000.0\n",
              "Cobalt      11000.0\n",
              "Monza       18000.0\n",
              "Tico            NaN\n",
              "Gentra      13000.0\n",
              "dtype: float64"
            ]
          },
          "metadata": {},
          "execution_count": 10
        }
      ]
    },
    {
      "cell_type": "code",
      "source": [
        "# iloc - qiymatlarni indeks_tartib raqami bo'yicha oberadi\n",
        "# Damazni narxini ko'ramiz - 7000\n",
        "sr3.iloc[4]"
      ],
      "metadata": {
        "colab": {
          "base_uri": "https://localhost:8080/"
        },
        "id": "SSdC7X4kVcsm",
        "outputId": "6fa97cbc-f07c-4ff4-884d-3b6042030376"
      },
      "execution_count": 11,
      "outputs": [
        {
          "output_type": "execute_result",
          "data": {
            "text/plain": [
              "7000.0"
            ]
          },
          "metadata": {},
          "execution_count": 11
        }
      ]
    },
    {
      "cell_type": "code",
      "source": [
        "# Tico - NaN\n",
        "sr3.iloc[-2]"
      ],
      "metadata": {
        "colab": {
          "base_uri": "https://localhost:8080/"
        },
        "id": "zIsxad1aVdjO",
        "outputId": "84674364-43c3-41e7-a3bb-19fdd689876f"
      },
      "execution_count": 12,
      "outputs": [
        {
          "output_type": "execute_result",
          "data": {
            "text/plain": [
              "nan"
            ]
          },
          "metadata": {},
          "execution_count": 12
        }
      ]
    },
    {
      "cell_type": "code",
      "source": [
        "# Malibu - 33000\n",
        "sr3.iloc[6]"
      ],
      "metadata": {
        "colab": {
          "base_uri": "https://localhost:8080/"
        },
        "id": "RS6Gv3uJW2Mu",
        "outputId": "7d307c4c-579e-4d39-850d-de3b87b4bf38"
      },
      "execution_count": 13,
      "outputs": [
        {
          "output_type": "execute_result",
          "data": {
            "text/plain": [
              "33000.0"
            ]
          },
          "metadata": {},
          "execution_count": 13
        }
      ]
    },
    {
      "cell_type": "code",
      "source": [
        "# loc - indeks qiymati bo'yicha elemnt olish\n",
        "sr3.loc['Tico']"
      ],
      "metadata": {
        "colab": {
          "base_uri": "https://localhost:8080/"
        },
        "id": "iYj2YWrAW9qq",
        "outputId": "d4ad4d32-425e-40af-c4ad-afa62848ad28"
      },
      "execution_count": 14,
      "outputs": [
        {
          "output_type": "execute_result",
          "data": {
            "text/plain": [
              "nan"
            ]
          },
          "metadata": {},
          "execution_count": 14
        }
      ]
    },
    {
      "cell_type": "code",
      "source": [
        "sr3.loc['Damaz']"
      ],
      "metadata": {
        "colab": {
          "base_uri": "https://localhost:8080/"
        },
        "id": "601n5ACDXMzl",
        "outputId": "0d0a302f-0ffa-4bf1-a6b0-07db5ad82dca"
      },
      "execution_count": 15,
      "outputs": [
        {
          "output_type": "execute_result",
          "data": {
            "text/plain": [
              "7000.0"
            ]
          },
          "metadata": {},
          "execution_count": 15
        }
      ]
    },
    {
      "cell_type": "code",
      "source": [
        "# max/min/mean - maksimum, minimum, o'rta qiymatlarni aniqlash\n",
        "sr3.max()"
      ],
      "metadata": {
        "colab": {
          "base_uri": "https://localhost:8080/"
        },
        "id": "CnzclZWgXCN7",
        "outputId": "09ef101b-a465-46fe-9c73-87b0f570c803"
      },
      "execution_count": 16,
      "outputs": [
        {
          "output_type": "execute_result",
          "data": {
            "text/plain": [
              "33000.0"
            ]
          },
          "metadata": {},
          "execution_count": 16
        }
      ]
    },
    {
      "cell_type": "code",
      "source": [
        "sr3.min()"
      ],
      "metadata": {
        "colab": {
          "base_uri": "https://localhost:8080/"
        },
        "id": "ujzKWcWSXTEm",
        "outputId": "f9a7fa90-045a-4a8e-8d56-62aa950b2829"
      },
      "execution_count": 17,
      "outputs": [
        {
          "output_type": "execute_result",
          "data": {
            "text/plain": [
              "4000.0"
            ]
          },
          "metadata": {},
          "execution_count": 17
        }
      ]
    },
    {
      "cell_type": "code",
      "source": [
        "sr3.mean()"
      ],
      "metadata": {
        "colab": {
          "base_uri": "https://localhost:8080/"
        },
        "id": "Hh_wluZhXT31",
        "outputId": "547cc366-7e01-4390-e2f8-4cae1a57d8b0"
      },
      "execution_count": 18,
      "outputs": [
        {
          "output_type": "execute_result",
          "data": {
            "text/plain": [
              "16062.5"
            ]
          },
          "metadata": {},
          "execution_count": 18
        }
      ]
    },
    {
      "cell_type": "code",
      "source": [
        "sr3"
      ],
      "metadata": {
        "colab": {
          "base_uri": "https://localhost:8080/"
        },
        "id": "WNziDhZIEANX",
        "outputId": "8461f0af-9c6f-49f9-a9d3-8092a645ab49"
      },
      "execution_count": 19,
      "outputs": [
        {
          "output_type": "execute_result",
          "data": {
            "text/plain": [
              "Nexia2       4000.0\n",
              "Tracker     28000.0\n",
              "Jiguli          NaN\n",
              "Onix        14500.0\n",
              "Damaz        7000.0\n",
              "Maskvich        NaN\n",
              "Malibu      33000.0\n",
              "Cobalt      11000.0\n",
              "Monza       18000.0\n",
              "Tico            NaN\n",
              "Gentra      13000.0\n",
              "dtype: float64"
            ]
          },
          "metadata": {},
          "execution_count": 19
        }
      ]
    },
    {
      "cell_type": "code",
      "source": [
        "# Seriesga nom berish\n",
        "sr3.name = 'Avtason narxlari'\n",
        "sr3"
      ],
      "metadata": {
        "colab": {
          "base_uri": "https://localhost:8080/"
        },
        "id": "_V122ubiXUyN",
        "outputId": "a7b678c4-3be7-4031-9837-6ce30430d151"
      },
      "execution_count": 20,
      "outputs": [
        {
          "output_type": "execute_result",
          "data": {
            "text/plain": [
              "Nexia2       4000.0\n",
              "Tracker     28000.0\n",
              "Jiguli          NaN\n",
              "Onix        14500.0\n",
              "Damaz        7000.0\n",
              "Maskvich        NaN\n",
              "Malibu      33000.0\n",
              "Cobalt      11000.0\n",
              "Monza       18000.0\n",
              "Tico            NaN\n",
              "Gentra      13000.0\n",
              "Name: Avtason narxlari, dtype: float64"
            ]
          },
          "metadata": {},
          "execution_count": 20
        }
      ]
    },
    {
      "cell_type": "code",
      "source": [
        "# indekslari nom berish\n",
        "sr3.index.name = 'Mashinalar ro\\'yxati'\n",
        "sr3"
      ],
      "metadata": {
        "colab": {
          "base_uri": "https://localhost:8080/"
        },
        "id": "gBk6KN4FEDos",
        "outputId": "2e1467d4-1e46-4a17-8bd8-6dddeaf6a4f6"
      },
      "execution_count": 21,
      "outputs": [
        {
          "output_type": "execute_result",
          "data": {
            "text/plain": [
              "Mashinalar ro'yxati\n",
              "Nexia2       4000.0\n",
              "Tracker     28000.0\n",
              "Jiguli          NaN\n",
              "Onix        14500.0\n",
              "Damaz        7000.0\n",
              "Maskvich        NaN\n",
              "Malibu      33000.0\n",
              "Cobalt      11000.0\n",
              "Monza       18000.0\n",
              "Tico            NaN\n",
              "Gentra      13000.0\n",
              "Name: Avtason narxlari, dtype: float64"
            ]
          },
          "metadata": {},
          "execution_count": 21
        }
      ]
    },
    {
      "cell_type": "code",
      "source": [],
      "metadata": {
        "id": "Vtg6ICWzEIh3"
      },
      "execution_count": null,
      "outputs": []
    }
  ]
}