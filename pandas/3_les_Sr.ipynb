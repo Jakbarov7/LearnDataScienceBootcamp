{
  "nbformat": 4,
  "nbformat_minor": 0,
  "metadata": {
    "colab": {
      "provenance": [],
      "authorship_tag": "ABX9TyPBd6x7OwvOZckyG9ORLq6Z",
      "include_colab_link": true
    },
    "kernelspec": {
      "name": "python3",
      "display_name": "Python 3"
    },
    "language_info": {
      "name": "python"
    }
  },
  "cells": [
    {
      "cell_type": "markdown",
      "metadata": {
        "id": "view-in-github",
        "colab_type": "text"
      },
      "source": [
        "<a href=\"https://colab.research.google.com/github/Jakbarov7/LearnDataScienceBootcamp/blob/main/pandas/3_les_Sr.ipynb\" target=\"_parent\"><img src=\"https://colab.research.google.com/assets/colab-badge.svg\" alt=\"Open In Colab\"/></a>"
      ]
    },
    {
      "cell_type": "code",
      "execution_count": 1,
      "metadata": {
        "id": "Ccd5wizVT_Ls"
      },
      "outputs": [],
      "source": [
        "import numpy as np\n",
        "import pandas as pd"
      ]
    },
    {
      "cell_type": "markdown",
      "source": [
        "#Series metodlar :\n",
        "- `.isnull()`\n",
        "- `.notnull()`\n",
        "- `.hasnans`\n",
        "- `.dtype`\n",
        "- `.is_unique`\n",
        "- `.shape`\n",
        "- `.size`\n",
        "- `.iloc`\n",
        "- `.loc[ ]`\n",
        "- `.max`\n",
        "- `.min`\n",
        "- `.mean`"
      ],
      "metadata": {
        "id": "b56gJvxgUkrd"
      }
    },
    {
      "cell_type": "code",
      "source": [
        "cars = ['Nexia2', 'Tracker', 'Jiguli', 'Onix', 'Damaz', 'Maskvich', 'Malibu', 'Cobalt', 'Monza', 'Tico', 'Gentra']\n",
        "sr3 = pd.Series({'Malibu':33000, 'Tracker':28000, 'Cobalt':11000, 'Gentra':13000, 'Onix':14500, 'Monza':18000, 'Damaz':7000, 'Nexia2':4000}, index=cars)\n",
        "sr3"
      ],
      "metadata": {
        "colab": {
          "base_uri": "https://localhost:8080/"
        },
        "id": "NuGhlFL4UDlO",
        "outputId": "a3a4489e-1e40-4dc5-acaf-3557b3627c12"
      },
      "execution_count": 2,
      "outputs": [
        {
          "output_type": "execute_result",
          "data": {
            "text/plain": [
              "Nexia2       4000.0\n",
              "Tracker     28000.0\n",
              "Jiguli          NaN\n",
              "Onix        14500.0\n",
              "Damaz        7000.0\n",
              "Maskvich        NaN\n",
              "Malibu      33000.0\n",
              "Cobalt      11000.0\n",
              "Monza       18000.0\n",
              "Tico            NaN\n",
              "Gentra      13000.0\n",
              "dtype: float64"
            ]
          },
          "metadata": {},
          "execution_count": 2
        }
      ]
    },
    {
      "cell_type": "code",
      "source": [
        "# isnull() - nan qiymatlar bo'lsa True beradi aks holda False\n",
        "sr3.isnull()"
      ],
      "metadata": {
        "colab": {
          "base_uri": "https://localhost:8080/"
        },
        "id": "5XrxiPSiVFPg",
        "outputId": "7613b660-ad31-4521-81b1-d86ae7e59386"
      },
      "execution_count": 3,
      "outputs": [
        {
          "output_type": "execute_result",
          "data": {
            "text/plain": [
              "Nexia2      False\n",
              "Tracker     False\n",
              "Jiguli       True\n",
              "Onix        False\n",
              "Damaz       False\n",
              "Maskvich     True\n",
              "Malibu      False\n",
              "Cobalt      False\n",
              "Monza       False\n",
              "Tico         True\n",
              "Gentra      False\n",
              "dtype: bool"
            ]
          },
          "metadata": {},
          "execution_count": 3
        }
      ]
    },
    {
      "cell_type": "code",
      "source": [
        "# notnull() - yuqoridagini teskarisi\n",
        "sr3.notnull()"
      ],
      "metadata": {
        "colab": {
          "base_uri": "https://localhost:8080/"
        },
        "id": "-q8uRAcnVLP_",
        "outputId": "804e06cb-d011-4a9f-c6c9-23f685b2207e"
      },
      "execution_count": 4,
      "outputs": [
        {
          "output_type": "execute_result",
          "data": {
            "text/plain": [
              "Nexia2       True\n",
              "Tracker      True\n",
              "Jiguli      False\n",
              "Onix         True\n",
              "Damaz        True\n",
              "Maskvich    False\n",
              "Malibu       True\n",
              "Cobalt       True\n",
              "Monza        True\n",
              "Tico        False\n",
              "Gentra       True\n",
              "dtype: bool"
            ]
          },
          "metadata": {},
          "execution_count": 4
        }
      ]
    },
    {
      "cell_type": "code",
      "source": [
        "# hasnans - NaN qiymatlar bo'lsa True beradi aks holda False\n",
        "sr3.hasnans"
      ],
      "metadata": {
        "colab": {
          "base_uri": "https://localhost:8080/"
        },
        "id": "D8x6W3cQVPb2",
        "outputId": "e8b36094-c5de-4eeb-eda5-df583fb0984c"
      },
      "execution_count": 6,
      "outputs": [
        {
          "output_type": "execute_result",
          "data": {
            "text/plain": [
              "True"
            ]
          },
          "metadata": {},
          "execution_count": 6
        }
      ]
    },
    {
      "cell_type": "code",
      "source": [
        "# dtype - Series qaysi ma'lumot turidagiligini ko'rsatadi\n",
        "sr3.dtype"
      ],
      "metadata": {
        "colab": {
          "base_uri": "https://localhost:8080/"
        },
        "id": "DTSp7074VS-_",
        "outputId": "94f9cd41-63bd-4bb3-ad41-3aa3cbf7f31a"
      },
      "execution_count": 12,
      "outputs": [
        {
          "output_type": "execute_result",
          "data": {
            "text/plain": [
              "dtype('float64')"
            ]
          },
          "metadata": {},
          "execution_count": 12
        }
      ]
    },
    {
      "cell_type": "code",
      "source": [
        "# is_unique - Series qiymatlari takrorlanganmi yo'qmi , shuni tekshiradi , takrorlangan bolsa False\n",
        "sr3.is_unique"
      ],
      "metadata": {
        "colab": {
          "base_uri": "https://localhost:8080/"
        },
        "id": "LVlpzPhHVY2G",
        "outputId": "719173e7-7547-4485-c997-1b8ee34d229b"
      },
      "execution_count": 14,
      "outputs": [
        {
          "output_type": "execute_result",
          "data": {
            "text/plain": [
              "False"
            ]
          },
          "metadata": {},
          "execution_count": 14
        }
      ]
    },
    {
      "cell_type": "code",
      "source": [
        "# shape - Seriesni qator va ustunlarini aniqlab beradi\n",
        "sr3.shape"
      ],
      "metadata": {
        "colab": {
          "base_uri": "https://localhost:8080/"
        },
        "id": "blPodKVUVZ_e",
        "outputId": "3b12f6f6-0f7b-42cd-aef1-362e75b67d72"
      },
      "execution_count": 15,
      "outputs": [
        {
          "output_type": "execute_result",
          "data": {
            "text/plain": [
              "(11,)"
            ]
          },
          "metadata": {},
          "execution_count": 15
        }
      ]
    },
    {
      "cell_type": "code",
      "source": [
        "# size - qiymatlar sonini aniqliydi\n",
        "sr3.size"
      ],
      "metadata": {
        "colab": {
          "base_uri": "https://localhost:8080/"
        },
        "id": "IXYRr-kvVcAG",
        "outputId": "bcb1477e-685d-4251-95ea-68690669498e"
      },
      "execution_count": 16,
      "outputs": [
        {
          "output_type": "execute_result",
          "data": {
            "text/plain": [
              "11"
            ]
          },
          "metadata": {},
          "execution_count": 16
        }
      ]
    },
    {
      "cell_type": "code",
      "source": [
        "sr3"
      ],
      "metadata": {
        "colab": {
          "base_uri": "https://localhost:8080/"
        },
        "id": "ngyIbwOVWoq3",
        "outputId": "8398501f-c115-4081-b9e5-27144f88dc40"
      },
      "execution_count": 17,
      "outputs": [
        {
          "output_type": "execute_result",
          "data": {
            "text/plain": [
              "Nexia2       4000.0\n",
              "Tracker     28000.0\n",
              "Jiguli          NaN\n",
              "Onix        14500.0\n",
              "Damaz        7000.0\n",
              "Maskvich        NaN\n",
              "Malibu      33000.0\n",
              "Cobalt      11000.0\n",
              "Monza       18000.0\n",
              "Tico            NaN\n",
              "Gentra      13000.0\n",
              "dtype: float64"
            ]
          },
          "metadata": {},
          "execution_count": 17
        }
      ]
    },
    {
      "cell_type": "code",
      "source": [
        "# iloc - qiymatlarni indeks_tartib raqami bo'yicha oberadi\n",
        "# Damazni narxini ko'ramiz - 7000\n",
        "sr3.iloc[4]"
      ],
      "metadata": {
        "colab": {
          "base_uri": "https://localhost:8080/"
        },
        "id": "SSdC7X4kVcsm",
        "outputId": "983f7728-86e4-48b8-bb71-66fe4c19e747"
      },
      "execution_count": 18,
      "outputs": [
        {
          "output_type": "execute_result",
          "data": {
            "text/plain": [
              "7000.0"
            ]
          },
          "metadata": {},
          "execution_count": 18
        }
      ]
    },
    {
      "cell_type": "code",
      "source": [
        "# Tico - NaN\n",
        "sr3.iloc[-2]"
      ],
      "metadata": {
        "colab": {
          "base_uri": "https://localhost:8080/"
        },
        "id": "zIsxad1aVdjO",
        "outputId": "a6696474-c54d-46cd-e2c4-273f6179173a"
      },
      "execution_count": 19,
      "outputs": [
        {
          "output_type": "execute_result",
          "data": {
            "text/plain": [
              "nan"
            ]
          },
          "metadata": {},
          "execution_count": 19
        }
      ]
    },
    {
      "cell_type": "code",
      "source": [
        "# Malibu - 33000\n",
        "sr3.iloc[6]"
      ],
      "metadata": {
        "colab": {
          "base_uri": "https://localhost:8080/"
        },
        "id": "RS6Gv3uJW2Mu",
        "outputId": "0844b7e1-f4a6-408b-bf78-a7faea90f72d"
      },
      "execution_count": 20,
      "outputs": [
        {
          "output_type": "execute_result",
          "data": {
            "text/plain": [
              "33000.0"
            ]
          },
          "metadata": {},
          "execution_count": 20
        }
      ]
    },
    {
      "cell_type": "code",
      "source": [
        "# loc - indeks qiymati bo'yicha elemnt olish\n",
        "sr3.loc['Tico']"
      ],
      "metadata": {
        "colab": {
          "base_uri": "https://localhost:8080/"
        },
        "id": "iYj2YWrAW9qq",
        "outputId": "3cab9e9c-d5dd-4f49-c099-f184e0dd7c01"
      },
      "execution_count": 22,
      "outputs": [
        {
          "output_type": "execute_result",
          "data": {
            "text/plain": [
              "nan"
            ]
          },
          "metadata": {},
          "execution_count": 22
        }
      ]
    },
    {
      "cell_type": "code",
      "source": [
        "sr3.loc['Damaz']"
      ],
      "metadata": {
        "colab": {
          "base_uri": "https://localhost:8080/"
        },
        "id": "601n5ACDXMzl",
        "outputId": "cd7aadb2-b466-4986-bf32-7705183c700f"
      },
      "execution_count": 23,
      "outputs": [
        {
          "output_type": "execute_result",
          "data": {
            "text/plain": [
              "7000.0"
            ]
          },
          "metadata": {},
          "execution_count": 23
        }
      ]
    },
    {
      "cell_type": "code",
      "source": [
        "# max/min/mean - maksimum, minimum, o'rta qiymatlarni aniqlash\n",
        "sr3.max()"
      ],
      "metadata": {
        "colab": {
          "base_uri": "https://localhost:8080/"
        },
        "id": "CnzclZWgXCN7",
        "outputId": "f0dccb92-2b93-44da-dfc0-97343848e153"
      },
      "execution_count": 24,
      "outputs": [
        {
          "output_type": "execute_result",
          "data": {
            "text/plain": [
              "33000.0"
            ]
          },
          "metadata": {},
          "execution_count": 24
        }
      ]
    },
    {
      "cell_type": "code",
      "source": [
        "sr3.min()"
      ],
      "metadata": {
        "colab": {
          "base_uri": "https://localhost:8080/"
        },
        "id": "ujzKWcWSXTEm",
        "outputId": "c2eba357-809d-4d90-d65e-0b3c822a1ce0"
      },
      "execution_count": 25,
      "outputs": [
        {
          "output_type": "execute_result",
          "data": {
            "text/plain": [
              "4000.0"
            ]
          },
          "metadata": {},
          "execution_count": 25
        }
      ]
    },
    {
      "cell_type": "code",
      "source": [
        "sr3.mean()"
      ],
      "metadata": {
        "colab": {
          "base_uri": "https://localhost:8080/"
        },
        "id": "Hh_wluZhXT31",
        "outputId": "1c331d27-018f-4330-80ba-ceefd4faa339"
      },
      "execution_count": 26,
      "outputs": [
        {
          "output_type": "execute_result",
          "data": {
            "text/plain": [
              "16062.5"
            ]
          },
          "metadata": {},
          "execution_count": 26
        }
      ]
    },
    {
      "cell_type": "code",
      "source": [],
      "metadata": {
        "id": "_V122ubiXUyN"
      },
      "execution_count": null,
      "outputs": []
    }
  ]
}