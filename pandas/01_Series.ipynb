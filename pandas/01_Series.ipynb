{
 "cells": [
  {
   "cell_type": "code",
   "execution_count": 1,
   "metadata": {},
   "outputs": [],
   "source": [
    "import numpy as np\n",
    "import pandas as pd\n",
    "from pandas import Series"
   ]
  },
  {
   "cell_type": "markdown",
   "metadata": {},
   "source": [
    "1. Series yaratish\n",
    "2. Faqat qiymatlarini ko'rish\n",
    "3. Faqat indekslarini ko'rish\n",
    "4. Elementlariga indeks bo'yicha murojat qilish\n",
    "5. Series indekslariga qiymat berish\n",
    "6. Bir vaqtda bir qancha elementlarni olish\n",
    "7. Filtrlash va arifmetik amallar bajarish "
   ]
  },
  {
   "cell_type": "code",
   "execution_count": 2,
   "metadata": {},
   "outputs": [
    {
     "data": {
      "text/plain": [
       "0    1.0\n",
       "1   -2.0\n",
       "2    3.3\n",
       "3    4.0\n",
       "4   -5.5\n",
       "5   -6.0\n",
       "dtype: float64"
      ]
     },
     "execution_count": 2,
     "metadata": {},
     "output_type": "execute_result"
    }
   ],
   "source": [
    "# Series yaratish\n",
    "obj = Series([1, -2, 3.3, 4, -5.5, -6])\n",
    "obj"
   ]
  },
  {
   "cell_type": "code",
   "execution_count": 3,
   "metadata": {},
   "outputs": [
    {
     "data": {
      "text/plain": [
       "array([ 1. , -2. ,  3.3,  4. , -5.5, -6. ])"
      ]
     },
     "execution_count": 3,
     "metadata": {},
     "output_type": "execute_result"
    }
   ],
   "source": [
    "# Faqat qiymatlarni olish\n",
    "obj.values"
   ]
  },
  {
   "cell_type": "code",
   "execution_count": 4,
   "metadata": {},
   "outputs": [
    {
     "data": {
      "text/plain": [
       "RangeIndex(start=0, stop=6, step=1)"
      ]
     },
     "execution_count": 4,
     "metadata": {},
     "output_type": "execute_result"
    }
   ],
   "source": [
    "# Faqat indekslarni olish\n",
    "obj.index"
   ]
  },
  {
   "cell_type": "code",
   "execution_count": 5,
   "metadata": {},
   "outputs": [
    {
     "name": "stdout",
     "output_type": "stream",
     "text": [
      "4.0\n",
      "-2.0\n",
      "-6.0\n"
     ]
    }
   ],
   "source": [
    "# Qiymatlarni indeksi orqali olish\n",
    "print(obj[3]) #4.0 ni beradi\n",
    "print(obj[1]) #-2.0\n",
    "print(obj[5]) #-6.0 "
   ]
  },
  {
   "cell_type": "code",
   "execution_count": 7,
   "metadata": {},
   "outputs": [
    {
     "data": {
      "text/plain": [
       "a    1\n",
       "b    3\n",
       "c    5\n",
       "d    2\n",
       "e    4\n",
       "f    6\n",
       "dtype: int64"
      ]
     },
     "execution_count": 7,
     "metadata": {},
     "output_type": "execute_result"
    }
   ],
   "source": [
    "# Series indekslariga qiymat berish\n",
    "obj2 = Series([1, 3, 5, 2, 4, 6], index=['a', 'b', 'c', 'd', 'e', 'f'])\n",
    "obj2"
   ]
  },
  {
   "cell_type": "code",
   "execution_count": 8,
   "metadata": {},
   "outputs": [
    {
     "name": "stdout",
     "output_type": "stream",
     "text": [
      "4\n",
      "3\n",
      "6\n",
      "1\n"
     ]
    }
   ],
   "source": [
    "# Indeks yordamida qiymatlarni olish \n",
    "print(obj2['e']) #4\n",
    "print(obj2['b']) #3\n",
    "print(obj2['f']) #6\n",
    "print(obj2['a']) #1"
   ]
  },
  {
   "cell_type": "code",
   "execution_count": 9,
   "metadata": {},
   "outputs": [
    {
     "data": {
      "text/plain": [
       "d    2\n",
       "e    4\n",
       "c    5\n",
       "dtype: int64"
      ]
     },
     "execution_count": 9,
     "metadata": {},
     "output_type": "execute_result"
    }
   ],
   "source": [
    "# Bir vaqtda bir nechta qiymatlarini olish\n",
    "obj2[['d', 'e', 'c']] #2, 4, 5"
   ]
  },
  {
   "cell_type": "code",
   "execution_count": 10,
   "metadata": {},
   "outputs": [
    {
     "data": {
      "text/plain": [
       "3    4.0\n",
       "4   -5.5\n",
       "5   -6.0\n",
       "dtype: float64"
      ]
     },
     "execution_count": 10,
     "metadata": {},
     "output_type": "execute_result"
    }
   ],
   "source": [
    "obj[[3, 4, 5]]"
   ]
  },
  {
   "cell_type": "code",
   "execution_count": 11,
   "metadata": {},
   "outputs": [
    {
     "data": {
      "text/plain": [
       "Malibu1      100\n",
       "Malibu2     1100\n",
       "Tracker     1200\n",
       "Captiva3    1300\n",
       "Captiva4    1350\n",
       "Volvo       1430\n",
       "Mercadez    1450\n",
       "BMW         1510\n",
       "Renjo       1520\n",
       "Bentley     1560\n",
       "Lacetti     1600\n",
       "Cobalt      1800\n",
       "dtype: int64"
      ]
     },
     "execution_count": 11,
     "metadata": {},
     "output_type": "execute_result"
    }
   ],
   "source": [
    "# Yangi kattaroq Series yaratamiz\n",
    "obj3 = Series([100, 1100, 1200, 1300, 1350, 1430, 1450, 1510, 1520, 1560, 1600, 1800], index=['Malibu1', 'Malibu2', 'Tracker', 'Captiva3', 'Captiva4', 'Volvo', 'Mercadez', 'BMW', 'Renjo', 'Bentley', 'Lacetti', 'Cobalt'])\n",
    "obj3"
   ]
  },
  {
   "cell_type": "code",
   "execution_count": 12,
   "metadata": {},
   "outputs": [
    {
     "data": {
      "text/plain": [
       "Mercadez    1450\n",
       "BMW         1510\n",
       "Renjo       1520\n",
       "Bentley     1560\n",
       "Lacetti     1600\n",
       "Cobalt      1800\n",
       "dtype: int64"
      ]
     },
     "execution_count": 12,
     "metadata": {},
     "output_type": "execute_result"
    }
   ],
   "source": [
    "# Qiymatlari ustida filtrlash \n",
    "obj3[obj3>1430] # Seriesimizdagi ma'lumotlardan faqat 1430 dan katta bo'lganlarini oberadi"
   ]
  },
  {
   "cell_type": "code",
   "execution_count": 17,
   "metadata": {},
   "outputs": [
    {
     "data": {
      "text/plain": [
       "Captiva3    1300\n",
       "Captiva4    1350\n",
       "Cobalt      1800\n",
       "dtype: int64"
      ]
     },
     "execution_count": 17,
     "metadata": {},
     "output_type": "execute_result"
    }
   ],
   "source": [
    "# Faqat C harfi bilan boshlanediganlarini chiqarib beradi\n",
    "obj3[obj3.index.str.startswith('C')]"
   ]
  },
  {
   "cell_type": "code",
   "execution_count": 20,
   "metadata": {},
   "outputs": [
    {
     "data": {
      "text/plain": [
       "Malibu1      100\n",
       "Malibu2     1100\n",
       "Tracker     1200\n",
       "Captiva3    1300\n",
       "Captiva4    1350\n",
       "Volvo       1430\n",
       "Mercadez    1450\n",
       "BMW         1510\n",
       "Renjo       1520\n",
       "Bentley     1560\n",
       "Lacetti     1600\n",
       "Cobalt      1800\n",
       "dtype: int64"
      ]
     },
     "execution_count": 20,
     "metadata": {},
     "output_type": "execute_result"
    }
   ],
   "source": [
    "# Qiymatlar ustida arfimetik amallar bajarish\n",
    "obj3"
   ]
  },
  {
   "cell_type": "code",
   "execution_count": 23,
   "metadata": {},
   "outputs": [
    {
     "data": {
      "text/plain": [
       "1300"
      ]
     },
     "execution_count": 23,
     "metadata": {},
     "output_type": "execute_result"
    }
   ],
   "source": [
    "# Trackerni qiymatiga 100 qo'shamiz | Asl Seriesga ta'sir qimiydi\n",
    "obj3['Tracker']+100 "
   ]
  },
  {
   "cell_type": "code",
   "execution_count": 24,
   "metadata": {},
   "outputs": [
    {
     "data": {
      "text/plain": [
       "2650"
      ]
     },
     "execution_count": 24,
     "metadata": {},
     "output_type": "execute_result"
    }
   ],
   "source": [
    "obj3['Captiva3']+obj3['Captiva4']"
   ]
  },
  {
   "cell_type": "code",
   "execution_count": 25,
   "metadata": {},
   "outputs": [
    {
     "data": {
      "text/plain": [
       "Malibu1      200\n",
       "Malibu2     2200\n",
       "Tracker     2400\n",
       "Captiva3    2600\n",
       "Captiva4    2700\n",
       "Volvo       2860\n",
       "Mercadez    2900\n",
       "BMW         3020\n",
       "Renjo       3040\n",
       "Bentley     3120\n",
       "Lacetti     3200\n",
       "Cobalt      3600\n",
       "dtype: int64"
      ]
     },
     "execution_count": 25,
     "metadata": {},
     "output_type": "execute_result"
    }
   ],
   "source": [
    "# Barcha qiymatlarni 2 ga ko'apytiradi\n",
    "obj3*2"
   ]
  },
  {
   "cell_type": "code",
   "execution_count": 26,
   "metadata": {},
   "outputs": [
    {
     "data": {
      "text/plain": [
       "Malibu1     4.605170\n",
       "Malibu2     7.003065\n",
       "Tracker     7.090077\n",
       "Captiva3    7.170120\n",
       "Captiva4    7.207860\n",
       "Volvo       7.265430\n",
       "Mercadez    7.279319\n",
       "BMW         7.319865\n",
       "Renjo       7.326466\n",
       "Bentley     7.352441\n",
       "Lacetti     7.377759\n",
       "Cobalt      7.495542\n",
       "dtype: float64"
      ]
     },
     "execution_count": 26,
     "metadata": {},
     "output_type": "execute_result"
    }
   ],
   "source": [
    "# Series qiymatlari ustida numpy arifmetik amallarniyam bajarishimiz mumkin\n",
    "np.log(obj3)"
   ]
  },
  {
   "cell_type": "code",
   "execution_count": 27,
   "metadata": {},
   "outputs": [
    {
     "name": "stderr",
     "output_type": "stream",
     "text": [
      "C:\\Users\\Izzat\\AppData\\Roaming\\Python\\Python311\\site-packages\\pandas\\core\\arraylike.py:396: RuntimeWarning: overflow encountered in exp\n",
      "  result = getattr(ufunc, method)(*inputs, **kwargs)\n"
     ]
    },
    {
     "data": {
      "text/plain": [
       "Malibu1     2.688117e+43\n",
       "Malibu2              inf\n",
       "Tracker              inf\n",
       "Captiva3             inf\n",
       "Captiva4             inf\n",
       "Volvo                inf\n",
       "Mercadez             inf\n",
       "BMW                  inf\n",
       "Renjo                inf\n",
       "Bentley              inf\n",
       "Lacetti              inf\n",
       "Cobalt               inf\n",
       "dtype: float64"
      ]
     },
     "execution_count": 27,
     "metadata": {},
     "output_type": "execute_result"
    }
   ],
   "source": [
    "# Exponentini hisobliydi\n",
    "np.exp(obj3)"
   ]
  },
  {
   "cell_type": "markdown",
   "metadata": {},
   "source": [
    "Lug'atdan Series yaratishni 2 ta usuli "
   ]
  },
  {
   "cell_type": "code",
   "execution_count": 29,
   "metadata": {},
   "outputs": [
    {
     "data": {
      "text/plain": [
       "Mol          75000\n",
       "Qo'y         80000\n",
       "Tovuq        24000\n",
       "Un            7000\n",
       "Non           3200\n",
       "Yog          16000\n",
       "Paxta_yog    15000\n",
       "Sut           5500\n",
       "Guruch       24000\n",
       "dtype: int64"
      ]
     },
     "execution_count": 29,
     "metadata": {},
     "output_type": "execute_result"
    }
   ],
   "source": [
    "# birinchi usul 1.dct yasash 2.Seriesga o'girish\n",
    "dct = {'Mol':75000, 'Qo\\'y':80000, 'Tovuq':24000, 'Un':7000, 'Non':3200, 'Yog':16000, 'Paxta_yog':15000, 'Sut':5500, 'Guruch':24000}\n",
    "obj_dct = Series(dct)\n",
    "obj_dct"
   ]
  },
  {
   "cell_type": "code",
   "execution_count": 31,
   "metadata": {},
   "outputs": [
    {
     "data": {
      "text/plain": [
       "Mol          75000\n",
       "Qo'y         80000\n",
       "Tovuq        24000\n",
       "Un            7000\n",
       "Non           3200\n",
       "Yog          16000\n",
       "Paxta_yog    15000\n",
       "Sut           5500\n",
       "Guruch       24000\n",
       "dtype: int64"
      ]
     },
     "execution_count": 31,
     "metadata": {},
     "output_type": "execute_result"
    }
   ],
   "source": [
    "# ikkinchi usul . Toridan tori Seriesga dctni berib ketish\n",
    "obj_dct2 = Series({'Mol':75000, 'Qo\\'y':80000, 'Tovuq':24000, 'Un':7000, 'Non':3200, 'Yog':16000, 'Paxta_yog':15000, 'Sut':5500, 'Guruch':24000})\n",
    "obj_dct2"
   ]
  },
  {
   "cell_type": "code",
   "execution_count": 32,
   "metadata": {},
   "outputs": [
    {
     "data": {
      "text/plain": [
       "True"
      ]
     },
     "execution_count": 32,
     "metadata": {},
     "output_type": "execute_result"
    }
   ],
   "source": [
    "# Huddi python_lugatdek ishlash\n",
    "'Mol' in obj_dct2"
   ]
  },
  {
   "cell_type": "code",
   "execution_count": 33,
   "metadata": {},
   "outputs": [
    {
     "data": {
      "text/plain": [
       "True"
      ]
     },
     "execution_count": 33,
     "metadata": {},
     "output_type": "execute_result"
    }
   ],
   "source": [
    "\"Qo'y\" in obj_dct2"
   ]
  },
  {
   "cell_type": "code",
   "execution_count": 34,
   "metadata": {},
   "outputs": [
    {
     "data": {
      "text/plain": [
       "False"
      ]
     },
     "execution_count": 34,
     "metadata": {},
     "output_type": "execute_result"
    }
   ],
   "source": [
    "'Tarvuz' in obj_dct2"
   ]
  },
  {
   "cell_type": "code",
   "execution_count": 35,
   "metadata": {},
   "outputs": [
    {
     "data": {
      "text/plain": [
       "Mol          75000\n",
       "Qo'y         80000\n",
       "Tovuq        24000\n",
       "Un            7000\n",
       "Non           3200\n",
       "Yog          16000\n",
       "Paxta_yog    15000\n",
       "Sut           5500\n",
       "Guruch       24000\n",
       "dtype: int64"
      ]
     },
     "execution_count": 35,
     "metadata": {},
     "output_type": "execute_result"
    }
   ],
   "source": [
    "obj_dct2"
   ]
  },
  {
   "cell_type": "code",
   "execution_count": 36,
   "metadata": {},
   "outputs": [
    {
     "data": {
      "text/plain": [
       "Non           3200.0\n",
       "Sut           5500.0\n",
       "Qovun            NaN\n",
       "Guruch       24000.0\n",
       "Mol          75000.0\n",
       "Qo'y         80000.0\n",
       "Tarvuz           NaN\n",
       "Tovuq        24000.0\n",
       "Un            7000.0\n",
       "Yog          16000.0\n",
       "Paxta_yog    15000.0\n",
       "dtype: float64"
      ]
     },
     "execution_count": 36,
     "metadata": {},
     "output_type": "execute_result"
    }
   ],
   "source": [
    "# Lug'at bn yaratilgan Seriesni indekslar tartibini o'zgaritirish\n",
    "obj_dct3 = Series(dct, index=['Non', 'Sut', 'Qovun', 'Guruch', 'Mol', \"Qo'y\", 'Tarvuz', 'Tovuq', 'Un', 'Yog', 'Paxta_yog'])\n",
    "obj_dct3"
   ]
  },
  {
   "cell_type": "code",
   "execution_count": 38,
   "metadata": {},
   "outputs": [
    {
     "data": {
      "text/plain": [
       "Non          False\n",
       "Sut          False\n",
       "Qovun         True\n",
       "Guruch       False\n",
       "Mol          False\n",
       "Qo'y         False\n",
       "Tarvuz        True\n",
       "Tovuq        False\n",
       "Un           False\n",
       "Yog          False\n",
       "Paxta_yog    False\n",
       "dtype: bool"
      ]
     },
     "execution_count": 38,
     "metadata": {},
     "output_type": "execute_result"
    }
   ],
   "source": [
    "# Seriesda mavjud bo'lmagan qiymatlarni aniqlash\n",
    "obj_dct3.isnull() # yo'q bo'lsa -> True "
   ]
  },
  {
   "cell_type": "code",
   "execution_count": 39,
   "metadata": {},
   "outputs": [
    {
     "data": {
      "text/plain": [
       "Non           True\n",
       "Sut           True\n",
       "Qovun        False\n",
       "Guruch        True\n",
       "Mol           True\n",
       "Qo'y          True\n",
       "Tarvuz       False\n",
       "Tovuq         True\n",
       "Un            True\n",
       "Yog           True\n",
       "Paxta_yog     True\n",
       "dtype: bool"
      ]
     },
     "execution_count": 39,
     "metadata": {},
     "output_type": "execute_result"
    }
   ],
   "source": [
    "obj_dct3.notnull() # yo'q bo'lsa -> False"
   ]
  },
  {
   "cell_type": "markdown",
   "metadata": {},
   "source": [
    "2 ta bir xil indeksli Serieslar ustida arifmetik amallar bajarish"
   ]
  },
  {
   "cell_type": "code",
   "execution_count": null,
   "metadata": {},
   "outputs": [],
   "source": [
    "obj_1 = Series([11, 12, 13, 14, 15], index=['son1', '', '', '', ''])"
   ]
  }
 ],
 "metadata": {
  "kernelspec": {
   "display_name": "Python 3",
   "language": "python",
   "name": "python3"
  },
  "language_info": {
   "codemirror_mode": {
    "name": "ipython",
    "version": 3
   },
   "file_extension": ".py",
   "mimetype": "text/x-python",
   "name": "python",
   "nbconvert_exporter": "python",
   "pygments_lexer": "ipython3",
   "version": "3.11.4"
  }
 },
 "nbformat": 4,
 "nbformat_minor": 2
}
