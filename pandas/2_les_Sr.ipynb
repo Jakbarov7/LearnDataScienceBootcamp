{
  "nbformat": 4,
  "nbformat_minor": 0,
  "metadata": {
    "colab": {
      "provenance": [],
      "authorship_tag": "ABX9TyNeykV9fw8EaRlGnoRTsoUX",
      "include_colab_link": true
    },
    "kernelspec": {
      "name": "python3",
      "display_name": "Python 3"
    },
    "language_info": {
      "name": "python"
    }
  },
  "cells": [
    {
      "cell_type": "markdown",
      "metadata": {
        "id": "view-in-github",
        "colab_type": "text"
      },
      "source": [
        "<a href=\"https://colab.research.google.com/github/Jakbarov7/LearnDataScienceBootcamp/blob/main/pandas/2_les_Sr.ipynb\" target=\"_parent\"><img src=\"https://colab.research.google.com/assets/colab-badge.svg\" alt=\"Open In Colab\"/></a>"
      ]
    },
    {
      "cell_type": "code",
      "execution_count": 1,
      "metadata": {
        "id": "TM3z6qWhPmG3"
      },
      "outputs": [],
      "source": [
        "import numpy as np\n",
        "import pandas as pd"
      ]
    },
    {
      "cell_type": "code",
      "source": [
        "# 1-lessonni davomi Series qiymatlari ustida numpy amallarini bajarish\n",
        "obj = pd.Series([2, 4, 6, 8, 10], index=[11, 12, 13, 14, 15])\n",
        "obj"
      ],
      "metadata": {
        "colab": {
          "base_uri": "https://localhost:8080/"
        },
        "id": "hR7UZTHwPq_x",
        "outputId": "327f90a1-cf1c-4c66-ad15-bd3833975fa2"
      },
      "execution_count": 2,
      "outputs": [
        {
          "output_type": "execute_result",
          "data": {
            "text/plain": [
              "11     2\n",
              "12     4\n",
              "13     6\n",
              "14     8\n",
              "15    10\n",
              "dtype: int64"
            ]
          },
          "metadata": {},
          "execution_count": 2
        }
      ]
    },
    {
      "cell_type": "code",
      "source": [
        "# qo'shish\n",
        "np.add(obj[11], obj[14])"
      ],
      "metadata": {
        "colab": {
          "base_uri": "https://localhost:8080/"
        },
        "id": "vGM3NA3xQAgp",
        "outputId": "df8ebc28-e1f4-4f91-86a9-0c31d9d641bd"
      },
      "execution_count": 5,
      "outputs": [
        {
          "output_type": "execute_result",
          "data": {
            "text/plain": [
              "10"
            ]
          },
          "metadata": {},
          "execution_count": 5
        }
      ]
    },
    {
      "cell_type": "code",
      "source": [
        "# ayirish\n",
        "np.subtract(obj[15], obj[13])"
      ],
      "metadata": {
        "colab": {
          "base_uri": "https://localhost:8080/"
        },
        "id": "VJvk4ElLQGqI",
        "outputId": "7c3a083c-4bd8-4d1e-820b-76b9101f69c8"
      },
      "execution_count": 6,
      "outputs": [
        {
          "output_type": "execute_result",
          "data": {
            "text/plain": [
              "4"
            ]
          },
          "metadata": {},
          "execution_count": 6
        }
      ]
    },
    {
      "cell_type": "code",
      "source": [
        "# ko'paytirish\n",
        "np.multiply(obj[11], obj[14])"
      ],
      "metadata": {
        "colab": {
          "base_uri": "https://localhost:8080/"
        },
        "id": "9Mq8qHzwQvSg",
        "outputId": "eda145cb-1025-4e49-d178-4ab0fd0303ed"
      },
      "execution_count": 7,
      "outputs": [
        {
          "output_type": "execute_result",
          "data": {
            "text/plain": [
              "16"
            ]
          },
          "metadata": {},
          "execution_count": 7
        }
      ]
    },
    {
      "cell_type": "code",
      "source": [
        "# Py-dictionary bilan Series yaratishni 2 xil usuli\n",
        "# 1-usul\n",
        "dct = {'Malibu':33000, 'Tracker':28000, 'Cobalt':11000, 'Gentra':13000, 'Onix':14500, 'Monza':18000}\n",
        "sr = pd.Series(dct)\n",
        "sr"
      ],
      "metadata": {
        "colab": {
          "base_uri": "https://localhost:8080/"
        },
        "id": "5Fu0QCSaQ_rc",
        "outputId": "05e3ba09-7b82-4255-8d9d-b8c7cbc413b1"
      },
      "execution_count": 8,
      "outputs": [
        {
          "output_type": "execute_result",
          "data": {
            "text/plain": [
              "Malibu     33000\n",
              "Tracker    28000\n",
              "Cobalt     11000\n",
              "Gentra     13000\n",
              "Onix       14500\n",
              "Monza      18000\n",
              "dtype: int64"
            ]
          },
          "metadata": {},
          "execution_count": 8
        }
      ]
    },
    {
      "cell_type": "code",
      "source": [
        "# indekslari orqali qiymatlar olish\n",
        "sr['Malibu']"
      ],
      "metadata": {
        "colab": {
          "base_uri": "https://localhost:8080/"
        },
        "id": "Y67kzuwsRZzZ",
        "outputId": "95b005bd-21d7-4f68-c0e5-c715d326be11"
      },
      "execution_count": 9,
      "outputs": [
        {
          "output_type": "execute_result",
          "data": {
            "text/plain": [
              "33000"
            ]
          },
          "metadata": {},
          "execution_count": 9
        }
      ]
    },
    {
      "cell_type": "code",
      "source": [
        "sr['Onix']"
      ],
      "metadata": {
        "colab": {
          "base_uri": "https://localhost:8080/"
        },
        "id": "9yNZiQV4RdQY",
        "outputId": "b0cb2fab-3011-4a94-c0a0-97124ef43eda"
      },
      "execution_count": 10,
      "outputs": [
        {
          "output_type": "execute_result",
          "data": {
            "text/plain": [
              "14500"
            ]
          },
          "metadata": {},
          "execution_count": 10
        }
      ]
    },
    {
      "cell_type": "code",
      "source": [
        "# 2-usul\n",
        "sr2 = pd.Series({'Malibu':33000, 'Tracker':28000, 'Cobalt':11000, 'Gentra':13000, 'Onix':14500, 'Monza':18000, 'Damaz':7000, 'Nexia2':4000})\n",
        "sr2"
      ],
      "metadata": {
        "colab": {
          "base_uri": "https://localhost:8080/"
        },
        "id": "kFc7m_a4ReZI",
        "outputId": "0d97dd89-3678-4202-c333-7e9e14f24681"
      },
      "execution_count": 11,
      "outputs": [
        {
          "output_type": "execute_result",
          "data": {
            "text/plain": [
              "Malibu     33000\n",
              "Tracker    28000\n",
              "Cobalt     11000\n",
              "Gentra     13000\n",
              "Onix       14500\n",
              "Monza      18000\n",
              "Damaz       7000\n",
              "Nexia2      4000\n",
              "dtype: int64"
            ]
          },
          "metadata": {},
          "execution_count": 11
        }
      ]
    },
    {
      "cell_type": "code",
      "source": [
        "sr2['Nexia2']"
      ],
      "metadata": {
        "colab": {
          "base_uri": "https://localhost:8080/"
        },
        "id": "fzE1fGhYRqQ3",
        "outputId": "c8600e58-e799-4023-8643-1856b180ac5c"
      },
      "execution_count": 12,
      "outputs": [
        {
          "output_type": "execute_result",
          "data": {
            "text/plain": [
              "4000"
            ]
          },
          "metadata": {},
          "execution_count": 12
        }
      ]
    },
    {
      "cell_type": "code",
      "source": [
        "# lug'atdagi amallarni bajarish mumkin\n",
        "'Nexia3' in sr2"
      ],
      "metadata": {
        "colab": {
          "base_uri": "https://localhost:8080/"
        },
        "id": "ILrMahUgRs1G",
        "outputId": "3ed3fc4c-7b75-419b-861c-0ad86fa4d429"
      },
      "execution_count": 13,
      "outputs": [
        {
          "output_type": "execute_result",
          "data": {
            "text/plain": [
              "False"
            ]
          },
          "metadata": {},
          "execution_count": 13
        }
      ]
    },
    {
      "cell_type": "code",
      "source": [
        "'Nexia2' in sr2"
      ],
      "metadata": {
        "colab": {
          "base_uri": "https://localhost:8080/"
        },
        "id": "7w8l4-HwRzL-",
        "outputId": "17de4da8-e32c-44a2-ffe2-d6107b88bc97"
      },
      "execution_count": 14,
      "outputs": [
        {
          "output_type": "execute_result",
          "data": {
            "text/plain": [
              "True"
            ]
          },
          "metadata": {},
          "execution_count": 14
        }
      ]
    },
    {
      "cell_type": "code",
      "source": [
        "'Tracker' in sr2"
      ],
      "metadata": {
        "colab": {
          "base_uri": "https://localhost:8080/"
        },
        "id": "COZrJIBVR1Lg",
        "outputId": "b35261c4-3c44-4202-d96e-1ab4924d7131"
      },
      "execution_count": 15,
      "outputs": [
        {
          "output_type": "execute_result",
          "data": {
            "text/plain": [
              "True"
            ]
          },
          "metadata": {},
          "execution_count": 15
        }
      ]
    },
    {
      "cell_type": "code",
      "source": [
        "sr2"
      ],
      "metadata": {
        "colab": {
          "base_uri": "https://localhost:8080/"
        },
        "id": "OZgzcQQhSGB5",
        "outputId": "b4ff0621-3137-4941-95e4-809546d7e88e"
      },
      "execution_count": 16,
      "outputs": [
        {
          "output_type": "execute_result",
          "data": {
            "text/plain": [
              "Malibu     33000\n",
              "Tracker    28000\n",
              "Cobalt     11000\n",
              "Gentra     13000\n",
              "Onix       14500\n",
              "Monza      18000\n",
              "Damaz       7000\n",
              "Nexia2      4000\n",
              "dtype: int64"
            ]
          },
          "metadata": {},
          "execution_count": 16
        }
      ]
    },
    {
      "cell_type": "code",
      "source": [
        "# Lug'at ko'rinishida yaratilgan Seriesni indekslarini tartiblash\n",
        "cars = ['Nexia2', 'Tracker', 'Jiguli', 'Onix', 'Damaz', 'Maskvich', 'Malibu', 'Cobalt', 'Monza', 'Tico', 'Gentra']\n",
        "sr3 = pd.Series({'Malibu':33000, 'Tracker':28000, 'Cobalt':11000, 'Gentra':13000, 'Onix':14500, 'Monza':18000, 'Damaz':7000, 'Nexia2':4000}, index=cars)\n",
        "sr3"
      ],
      "metadata": {
        "colab": {
          "base_uri": "https://localhost:8080/"
        },
        "id": "76P_FglyR5UI",
        "outputId": "4f0b7760-6dae-4cda-fbae-1800789c8d03"
      },
      "execution_count": 17,
      "outputs": [
        {
          "output_type": "execute_result",
          "data": {
            "text/plain": [
              "Nexia2       4000.0\n",
              "Tracker     28000.0\n",
              "Jiguli          NaN\n",
              "Onix        14500.0\n",
              "Damaz        7000.0\n",
              "Maskvich        NaN\n",
              "Malibu      33000.0\n",
              "Cobalt      11000.0\n",
              "Monza       18000.0\n",
              "Tico            NaN\n",
              "Gentra      13000.0\n",
              "dtype: float64"
            ]
          },
          "metadata": {},
          "execution_count": 17
        }
      ]
    },
    {
      "cell_type": "code",
      "source": [
        "# yuqorida oldin mavjud bo'lmagan indekslarga NaN qilib ketadi . Ana shularni qiymatlarini o'zgartiramiz\n",
        "sr3['Tico'] = 1000\n",
        "sr3['Maskvich'] = 600\n",
        "sr3['Jiguli'] = 800\n",
        "sr3"
      ],
      "metadata": {
        "colab": {
          "base_uri": "https://localhost:8080/"
        },
        "id": "yh5VyLsRSmPn",
        "outputId": "7f28879d-580d-48c4-ca55-d5cd80a594a5"
      },
      "execution_count": 18,
      "outputs": [
        {
          "output_type": "execute_result",
          "data": {
            "text/plain": [
              "Nexia2       4000.0\n",
              "Tracker     28000.0\n",
              "Jiguli        800.0\n",
              "Onix        14500.0\n",
              "Damaz        7000.0\n",
              "Maskvich      600.0\n",
              "Malibu      33000.0\n",
              "Cobalt      11000.0\n",
              "Monza       18000.0\n",
              "Tico         1000.0\n",
              "Gentra      13000.0\n",
              "dtype: float64"
            ]
          },
          "metadata": {},
          "execution_count": 18
        }
      ]
    },
    {
      "cell_type": "code",
      "source": [],
      "metadata": {
        "id": "DUvFqiEPS3tX"
      },
      "execution_count": null,
      "outputs": []
    }
  ]
}