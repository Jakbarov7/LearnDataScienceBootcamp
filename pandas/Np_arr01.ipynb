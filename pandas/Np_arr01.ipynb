{
  "nbformat": 4,
  "nbformat_minor": 0,
  "metadata": {
    "colab": {
      "provenance": [],
      "authorship_tag": "ABX9TyPsXtVVepBzesnGywHcu2js",
      "include_colab_link": true
    },
    "kernelspec": {
      "name": "python3",
      "display_name": "Python 3"
    },
    "language_info": {
      "name": "python"
    }
  },
  "cells": [
    {
      "cell_type": "markdown",
      "metadata": {
        "id": "view-in-github",
        "colab_type": "text"
      },
      "source": [
        "<a href=\"https://colab.research.google.com/github/Jakbarov7/LearnDataScienceBootcamp/blob/main/pandas/Np_arr01.ipynb\" target=\"_parent\"><img src=\"https://colab.research.google.com/assets/colab-badge.svg\" alt=\"Open In Colab\"/></a>"
      ]
    },
    {
      "cell_type": "code",
      "execution_count": null,
      "metadata": {
        "id": "C023DviX1xZa"
      },
      "outputs": [],
      "source": [
        "import numpy as np"
      ]
    },
    {
      "cell_type": "markdown",
      "source": [
        "1. Birinchi usul : array funksiyasi yordamida . Ushbu funksiya har qanday turdagi ketma-ket ma'lumotlarni qabul qilib, uni yangi Numpy arrayiga o'girib beradi."
      ],
      "metadata": {
        "id": "VBMQ8QZh2hXT"
      }
    },
    {
      "cell_type": "code",
      "source": [
        "data = [2, 4, 6, 8, 10]\n",
        "arr = np.array(data)\n",
        "arr"
      ],
      "metadata": {
        "colab": {
          "base_uri": "https://localhost:8080/"
        },
        "id": "9bs8gruu2c0_",
        "outputId": "c4acab78-2eb0-4ce8-b363-dccdf0e2daa3"
      },
      "execution_count": null,
      "outputs": [
        {
          "output_type": "execute_result",
          "data": {
            "text/plain": [
              "array([ 2,  4,  6,  8, 10])"
            ]
          },
          "metadata": {},
          "execution_count": 2
        }
      ]
    },
    {
      "cell_type": "code",
      "source": [
        "type(arr)"
      ],
      "metadata": {
        "colab": {
          "base_uri": "https://localhost:8080/"
        },
        "id": "IlKt83DH2kM7",
        "outputId": "2ec12719-9a65-4742-8ce2-6e2f656426cc"
      },
      "execution_count": null,
      "outputs": [
        {
          "output_type": "execute_result",
          "data": {
            "text/plain": [
              "numpy.ndarray"
            ]
          },
          "metadata": {},
          "execution_count": 3
        }
      ]
    },
    {
      "cell_type": "code",
      "source": [
        "data2 = (1, 3, 5, 7, 9)\n",
        "arr2 = np.array(data2)\n",
        "arr2"
      ],
      "metadata": {
        "id": "uI-xjDvI2u9o",
        "colab": {
          "base_uri": "https://localhost:8080/"
        },
        "outputId": "61b8d910-4c70-478d-f1f4-3c998c0fd36e"
      },
      "execution_count": null,
      "outputs": [
        {
          "output_type": "execute_result",
          "data": {
            "text/plain": [
              "array([1, 3, 5, 7, 9])"
            ]
          },
          "metadata": {},
          "execution_count": 4
        }
      ]
    },
    {
      "cell_type": "markdown",
      "source": [
        "ndim yordamida arr o'lchamini aniqlash"
      ],
      "metadata": {
        "id": "aRjLNsNkP95V"
      }
    },
    {
      "cell_type": "code",
      "source": [
        "print(\"arr ning o'lchami:\", arr.ndim, \"ga teng.\")\n",
        "print(\"arr2 ning o'lchami:\", arr2.ndim, \"ga teng.\")"
      ],
      "metadata": {
        "colab": {
          "base_uri": "https://localhost:8080/"
        },
        "id": "lshMI7qMPDM0",
        "outputId": "3519d283-42b6-4b47-fa96-5fdcd9c0e010"
      },
      "execution_count": null,
      "outputs": [
        {
          "output_type": "stream",
          "name": "stdout",
          "text": [
            "arr ning o'lchami: 1 ga teng.\n",
            "arr2 ning o'lchami: 1 ga teng.\n"
          ]
        }
      ]
    },
    {
      "cell_type": "markdown",
      "source": [
        "2D arr . Nested list yordamida"
      ],
      "metadata": {
        "id": "L6y9g5wFP4Vs"
      }
    },
    {
      "cell_type": "code",
      "source": [
        "# Nested listdan foydalaniladi\n",
        "data2d = [[1, 3, 5, 7], [2, 4, 6, 8]]\n",
        "arr2d = np.array(data2d)\n",
        "arr2d"
      ],
      "metadata": {
        "colab": {
          "base_uri": "https://localhost:8080/"
        },
        "id": "n2i-iX7VPSZn",
        "outputId": "81b2a213-83c0-45c8-eba9-5ef1e0ec875f"
      },
      "execution_count": null,
      "outputs": [
        {
          "output_type": "execute_result",
          "data": {
            "text/plain": [
              "array([[1, 3, 5, 7],\n",
              "       [2, 4, 6, 8]])"
            ]
          },
          "metadata": {},
          "execution_count": 6
        }
      ]
    },
    {
      "cell_type": "code",
      "source": [
        "# o'lchamini aniqlimiz\n",
        "arr2d.ndim"
      ],
      "metadata": {
        "colab": {
          "base_uri": "https://localhost:8080/"
        },
        "id": "3Y1WkXqyPlLY",
        "outputId": "0a16a044-d000-4538-82f9-524efee95c61"
      },
      "execution_count": null,
      "outputs": [
        {
          "output_type": "execute_result",
          "data": {
            "text/plain": [
              "2"
            ]
          },
          "metadata": {},
          "execution_count": 7
        }
      ]
    },
    {
      "cell_type": "markdown",
      "source": [
        "shape va size metodlari :\n",
        "  1. shape - qator va ustunlar sonini aniqliydi\n",
        "  2. size - massiv elementlar sonini aniqliydi"
      ],
      "metadata": {
        "id": "PHTThRt9Ptn5"
      }
    },
    {
      "cell_type": "code",
      "source": [
        "print(arr)"
      ],
      "metadata": {
        "colab": {
          "base_uri": "https://localhost:8080/"
        },
        "id": "XmqtJv48Pp-h",
        "outputId": "e6871697-9aca-4d41-83ae-6a74d122a438"
      },
      "execution_count": null,
      "outputs": [
        {
          "output_type": "stream",
          "name": "stdout",
          "text": [
            "[ 2  4  6  8 10]\n"
          ]
        }
      ]
    },
    {
      "cell_type": "code",
      "source": [
        "arr.shape # qator va ustunlar sonini aniqlimiz"
      ],
      "metadata": {
        "colab": {
          "base_uri": "https://localhost:8080/"
        },
        "id": "02cmT7X7QGma",
        "outputId": "1a68d2df-6f9e-43a9-aff7-d5f63ce23a84"
      },
      "execution_count": null,
      "outputs": [
        {
          "output_type": "execute_result",
          "data": {
            "text/plain": [
              "(5,)"
            ]
          },
          "metadata": {},
          "execution_count": 9
        }
      ]
    },
    {
      "cell_type": "code",
      "source": [
        "arr.size # nechta elementi borligini aniqlimiz"
      ],
      "metadata": {
        "colab": {
          "base_uri": "https://localhost:8080/"
        },
        "id": "h6oSBaLoQH5D",
        "outputId": "7604ae64-3cd3-4dae-c042-9db90d174cb3"
      },
      "execution_count": null,
      "outputs": [
        {
          "output_type": "execute_result",
          "data": {
            "text/plain": [
              "5"
            ]
          },
          "metadata": {},
          "execution_count": 10
        }
      ]
    },
    {
      "cell_type": "code",
      "source": [
        "print(arr2)"
      ],
      "metadata": {
        "colab": {
          "base_uri": "https://localhost:8080/"
        },
        "id": "8Rzraq5gQM9D",
        "outputId": "06656861-dccb-4be1-c1cb-907d6503b5cd"
      },
      "execution_count": null,
      "outputs": [
        {
          "output_type": "stream",
          "name": "stdout",
          "text": [
            "[1 3 5 7 9]\n"
          ]
        }
      ]
    },
    {
      "cell_type": "code",
      "source": [
        "arr2.shape"
      ],
      "metadata": {
        "colab": {
          "base_uri": "https://localhost:8080/"
        },
        "id": "h-Qv-DJyQSkK",
        "outputId": "95555374-3af3-4c0a-ebac-c347f0223e26"
      },
      "execution_count": null,
      "outputs": [
        {
          "output_type": "execute_result",
          "data": {
            "text/plain": [
              "(5,)"
            ]
          },
          "metadata": {},
          "execution_count": 12
        }
      ]
    },
    {
      "cell_type": "code",
      "source": [
        "arr2.size"
      ],
      "metadata": {
        "colab": {
          "base_uri": "https://localhost:8080/"
        },
        "id": "fsninJboQUD1",
        "outputId": "0fa1e1d8-e556-4f7b-ea2b-4978ced9ca21"
      },
      "execution_count": null,
      "outputs": [
        {
          "output_type": "execute_result",
          "data": {
            "text/plain": [
              "5"
            ]
          },
          "metadata": {},
          "execution_count": 13
        }
      ]
    },
    {
      "cell_type": "code",
      "source": [
        "print(arr2d)"
      ],
      "metadata": {
        "colab": {
          "base_uri": "https://localhost:8080/"
        },
        "id": "uga3_5GyQVU5",
        "outputId": "47707212-3b46-4327-b285-0e17a0cdca63"
      },
      "execution_count": null,
      "outputs": [
        {
          "output_type": "stream",
          "name": "stdout",
          "text": [
            "[[1 3 5 7]\n",
            " [2 4 6 8]]\n"
          ]
        }
      ]
    },
    {
      "cell_type": "code",
      "source": [
        "# qator va ustunlari\n",
        "arr2d.shape"
      ],
      "metadata": {
        "colab": {
          "base_uri": "https://localhost:8080/"
        },
        "id": "dtLH87d_QW-d",
        "outputId": "3231eb7f-5181-4238-b5b4-77498f16c8ac"
      },
      "execution_count": null,
      "outputs": [
        {
          "output_type": "execute_result",
          "data": {
            "text/plain": [
              "(2, 4)"
            ]
          },
          "metadata": {},
          "execution_count": 15
        }
      ]
    },
    {
      "cell_type": "code",
      "source": [
        "# elementlari soni\n",
        "arr2d.size"
      ],
      "metadata": {
        "colab": {
          "base_uri": "https://localhost:8080/"
        },
        "id": "TEig2sX_QaKE",
        "outputId": "40669ae6-865f-41b8-ff0f-c196cd6d6673"
      },
      "execution_count": null,
      "outputs": [
        {
          "output_type": "execute_result",
          "data": {
            "text/plain": [
              "8"
            ]
          },
          "metadata": {},
          "execution_count": 16
        }
      ]
    },
    {
      "cell_type": "markdown",
      "source": [
        "3D massiv yaratish | boshlanishidagi va tugashidagi to'rtburchak qavslar 3 tadan bo'lishi kerak !"
      ],
      "metadata": {
        "id": "7e3jkDSMQk2M"
      }
    },
    {
      "cell_type": "code",
      "source": [
        "data3d = [[[1, 2, 3], [4, 5, 6]], [[7, 8, 9], [10, 11, 12]], [[13, 14, 15], [16, 17, 18]]]\n",
        "arr3d = np.array(data3d)\n",
        "arr3d"
      ],
      "metadata": {
        "colab": {
          "base_uri": "https://localhost:8080/"
        },
        "id": "c1tBCoqzQcOx",
        "outputId": "41df024e-1c9c-4033-8848-394e76f3345b"
      },
      "execution_count": null,
      "outputs": [
        {
          "output_type": "execute_result",
          "data": {
            "text/plain": [
              "array([[[ 1,  2,  3],\n",
              "        [ 4,  5,  6]],\n",
              "\n",
              "       [[ 7,  8,  9],\n",
              "        [10, 11, 12]],\n",
              "\n",
              "       [[13, 14, 15],\n",
              "        [16, 17, 18]]])"
            ]
          },
          "metadata": {},
          "execution_count": 17
        }
      ]
    },
    {
      "cell_type": "code",
      "source": [
        "# o'chamini aniqlimiz\n",
        "arr3d.ndim"
      ],
      "metadata": {
        "colab": {
          "base_uri": "https://localhost:8080/"
        },
        "id": "jyAohjXZQ09S",
        "outputId": "5faccca4-8780-46c8-c0ed-786c09061763"
      },
      "execution_count": null,
      "outputs": [
        {
          "output_type": "execute_result",
          "data": {
            "text/plain": [
              "3"
            ]
          },
          "metadata": {},
          "execution_count": 18
        }
      ]
    },
    {
      "cell_type": "code",
      "source": [
        "# qator va ustunlarini aniqlimiz\n",
        "arr3d.shape # javobi: (3 ta 2d arr, 2qatordan, 3ustundan iborat)"
      ],
      "metadata": {
        "colab": {
          "base_uri": "https://localhost:8080/"
        },
        "id": "ngn3d72cQ8Ri",
        "outputId": "b1a56b38-fb1f-4148-ad77-026a0160bcf2"
      },
      "execution_count": null,
      "outputs": [
        {
          "output_type": "execute_result",
          "data": {
            "text/plain": [
              "(3, 2, 3)"
            ]
          },
          "metadata": {},
          "execution_count": 19
        }
      ]
    },
    {
      "cell_type": "code",
      "source": [
        "# elementlar sonini aniqlimiz\n",
        "arr3d.size"
      ],
      "metadata": {
        "colab": {
          "base_uri": "https://localhost:8080/"
        },
        "id": "i3mrVcTsQ_ep",
        "outputId": "b08f728a-9b5a-4448-d78e-717cedb47e2e"
      },
      "execution_count": null,
      "outputs": [
        {
          "output_type": "execute_result",
          "data": {
            "text/plain": [
              "18"
            ]
          },
          "metadata": {},
          "execution_count": 20
        }
      ]
    },
    {
      "cell_type": "markdown",
      "source": [
        "Zeros va Ones yordamida NumPy massiv yaratish :\n",
        "  1. zeros - barcha qiymatlari 0 dan iborat qator va ustunlari sonini aniq berishimiz bilan massiv yasab beradi\n",
        "  2. ones - barcha qiymatlari 1 dan tashkil topgan buyam sheypini berishimiz kerak bo'ladi"
      ],
      "metadata": {
        "id": "_Gzq_QYfRbVo"
      }
    },
    {
      "cell_type": "code",
      "source": [
        "# zeros\n",
        "arrZero = np.zeros(shape=(3, 4))\n",
        "arrZero"
      ],
      "metadata": {
        "colab": {
          "base_uri": "https://localhost:8080/"
        },
        "id": "qbURkeC8RCIp",
        "outputId": "7ec9c510-1f4f-495f-830c-d76a3f31fd6e"
      },
      "execution_count": null,
      "outputs": [
        {
          "output_type": "execute_result",
          "data": {
            "text/plain": [
              "array([[0., 0., 0., 0.],\n",
              "       [0., 0., 0., 0.],\n",
              "       [0., 0., 0., 0.]])"
            ]
          },
          "metadata": {},
          "execution_count": 21
        }
      ]
    },
    {
      "cell_type": "code",
      "source": [
        "# shape= qilib yozmasegam bo'ladi\n",
        "arrZ2 = np.zeros((2, 3))\n",
        "arrZ2"
      ],
      "metadata": {
        "colab": {
          "base_uri": "https://localhost:8080/"
        },
        "id": "rQqcy5qpR61X",
        "outputId": "d2fe336d-0f95-4582-cf9e-d8f3dfbfba7f"
      },
      "execution_count": null,
      "outputs": [
        {
          "output_type": "execute_result",
          "data": {
            "text/plain": [
              "array([[0., 0., 0.],\n",
              "       [0., 0., 0.]])"
            ]
          },
          "metadata": {},
          "execution_count": 22
        }
      ]
    },
    {
      "cell_type": "code",
      "source": [
        "# Ones\n",
        "arrOne = np.ones(shape=(3, 4))\n",
        "arrOne"
      ],
      "metadata": {
        "colab": {
          "base_uri": "https://localhost:8080/"
        },
        "id": "RWgw3J-NSBo1",
        "outputId": "324c6502-3200-4859-928a-ab5e68acb5e8"
      },
      "execution_count": null,
      "outputs": [
        {
          "output_type": "execute_result",
          "data": {
            "text/plain": [
              "array([[1., 1., 1., 1.],\n",
              "       [1., 1., 1., 1.],\n",
              "       [1., 1., 1., 1.]])"
            ]
          },
          "metadata": {},
          "execution_count": 23
        }
      ]
    },
    {
      "cell_type": "code",
      "source": [
        "arrO2 = np.ones((2, 3))\n",
        "arrO2"
      ],
      "metadata": {
        "colab": {
          "base_uri": "https://localhost:8080/"
        },
        "id": "t-PjNBalSJRG",
        "outputId": "e3f23589-8ca0-4889-d638-6a8d18806e99"
      },
      "execution_count": null,
      "outputs": [
        {
          "output_type": "execute_result",
          "data": {
            "text/plain": [
              "array([[1., 1., 1.],\n",
              "       [1., 1., 1.]])"
            ]
          },
          "metadata": {},
          "execution_count": 24
        }
      ]
    },
    {
      "cell_type": "code",
      "source": [
        "# arrZero ni barcha ma'lumotlarini ko'ramiz\n",
        "print(arrZero.ndim) # o'lchami\n",
        "print(arrZero.shape) # qator va ustunlari\n",
        "print(arrZero.size) # elementlari soni"
      ],
      "metadata": {
        "id": "hSvn6MsCSLvv",
        "colab": {
          "base_uri": "https://localhost:8080/"
        },
        "outputId": "3e23fc3a-f3e3-48eb-b5bd-0c1e1957c781"
      },
      "execution_count": null,
      "outputs": [
        {
          "output_type": "stream",
          "name": "stdout",
          "text": [
            "2\n",
            "(3, 4)\n",
            "12\n"
          ]
        }
      ]
    },
    {
      "cell_type": "code",
      "source": [
        "# arrOne ni barcha ma'lumotlarini ko'ramiz\n",
        "print(arrOne.ndim) # o'lchami\n",
        "print(arrOne.shape) # qator va ustunlari\n",
        "print(arrOne.size) # elementlari soni"
      ],
      "metadata": {
        "colab": {
          "base_uri": "https://localhost:8080/"
        },
        "id": "4kM9AA1VvI3u",
        "outputId": "24e4ecc4-cd50-4bd1-c920-6c975d559767"
      },
      "execution_count": null,
      "outputs": [
        {
          "output_type": "stream",
          "name": "stdout",
          "text": [
            "2\n",
            "(3, 4)\n",
            "12\n"
          ]
        }
      ]
    },
    {
      "cell_type": "markdown",
      "source": [
        "arange funksiyasi bilan massiv yaratish :\n",
        "  1. default holati : arange(5) # 0~5 gacha sonlarni beradi\n",
        "  2. start, stop : arange(5, 10) # 5~10 gacha sonlarni beradi\n",
        "  3. start, stop, step : arange(1, 20, 2) # 1~20 gacha 2 qadam bilan oberadi"
      ],
      "metadata": {
        "id": "8CsNF3SpvtQe"
      }
    },
    {
      "cell_type": "code",
      "source": [
        "# default holati\n",
        "arrArn = np.arange(5)\n",
        "arrArn"
      ],
      "metadata": {
        "colab": {
          "base_uri": "https://localhost:8080/"
        },
        "id": "DLXREqkcvia6",
        "outputId": "7c056485-39de-4489-933a-faa3882a6553"
      },
      "execution_count": null,
      "outputs": [
        {
          "output_type": "execute_result",
          "data": {
            "text/plain": [
              "array([0, 1, 2, 3, 4])"
            ]
          },
          "metadata": {},
          "execution_count": 27
        }
      ]
    },
    {
      "cell_type": "code",
      "source": [
        "# start, stop bilan\n",
        "arr_arn2 = np.arange(5, 15)\n",
        "arr_arn2"
      ],
      "metadata": {
        "colab": {
          "base_uri": "https://localhost:8080/"
        },
        "id": "lXyEDk3iwNpA",
        "outputId": "cd04a8cf-96a6-4565-c3d6-ab190b77f563"
      },
      "execution_count": null,
      "outputs": [
        {
          "output_type": "execute_result",
          "data": {
            "text/plain": [
              "array([ 5,  6,  7,  8,  9, 10, 11, 12, 13, 14])"
            ]
          },
          "metadata": {},
          "execution_count": 28
        }
      ]
    },
    {
      "cell_type": "code",
      "source": [
        "# start, stop, step bilan\n",
        "arr_arn3 = np.arange(2, 28, 2) # 2 dan 28 gacha 2 qadam bilan juft sonlarni oberadi\n",
        "arr_arn3"
      ],
      "metadata": {
        "colab": {
          "base_uri": "https://localhost:8080/"
        },
        "id": "ezQZ7NbnwUJr",
        "outputId": "3e1ad43d-4808-4ea6-c205-517e9f1bc1a0"
      },
      "execution_count": null,
      "outputs": [
        {
          "output_type": "execute_result",
          "data": {
            "text/plain": [
              "array([ 2,  4,  6,  8, 10, 12, 14, 16, 18, 20, 22, 24, 26])"
            ]
          },
          "metadata": {},
          "execution_count": 29
        }
      ]
    },
    {
      "cell_type": "markdown",
      "source": [
        "Random funksiyasi orqali massiv yaratish :\n",
        "\n",
        "  1. rand - 0 va 1 oralig'idagi taxminiy sonlarni beradi\n",
        "    ishlatilishi 3 xil : 1)rand() - 1 ta float_son beradi , 2)rand(5) - 5 ta float_son beradi(1D arr), 3) rand(3, 4)- 3ga 4 o'lchamdagi 2D arr beradi , 5)rand(2, 3, 4)-2ta 2D li arr va 3 ga 4 bo'lgan 3D arr beradi .\n",
        "\n",
        "  2. randint - belgilangan chegaradan tasodifiy 1ta butun sonni beradi buniyam yuqoridagi kabi 1ta butun_son , 1D, 2D va 3D arrlar va ularni tayplari bilan osa bo'ladi\n",
        "\n",
        "  3. randn - buyam yuqoridagi kabi bitta son, 1D, 2D va 3D arrlarni osa bo'ladi faqat 0 va 1 oraligida ba'zida manfiy ko'pincha musbat sonlarni beradi"
      ],
      "metadata": {
        "id": "oWDXtJwMwiP9"
      }
    },
    {
      "cell_type": "markdown",
      "source": [
        "**rand - ga misollar ko'ramiz**"
      ],
      "metadata": {
        "id": "foyp2nez61Dq"
      }
    },
    {
      "cell_type": "code",
      "source": [
        "# 0 va 1 oraligidan bitta musbat son\n",
        "arrR1 = np.random.rand()\n",
        "arrR1"
      ],
      "metadata": {
        "colab": {
          "base_uri": "https://localhost:8080/"
        },
        "id": "lyN7_NL-zmwF",
        "outputId": "2471e9d0-3872-4e2c-b08f-b27c024416a8"
      },
      "execution_count": null,
      "outputs": [
        {
          "output_type": "execute_result",
          "data": {
            "text/plain": [
              "0.5171052289994332"
            ]
          },
          "metadata": {},
          "execution_count": 30
        }
      ]
    },
    {
      "cell_type": "code",
      "source": [
        "# 0 va 1 oraligidan 3 ta son\n",
        "arrR2 = np.random.rand(3)\n",
        "arrR2"
      ],
      "metadata": {
        "colab": {
          "base_uri": "https://localhost:8080/"
        },
        "id": "U0FBd1-q6NNc",
        "outputId": "7ef837b6-af47-4f9d-c69f-536fcad2de39"
      },
      "execution_count": null,
      "outputs": [
        {
          "output_type": "execute_result",
          "data": {
            "text/plain": [
              "array([0.26798653, 0.26368096, 0.39194248])"
            ]
          },
          "metadata": {},
          "execution_count": 31
        }
      ]
    },
    {
      "cell_type": "code",
      "source": [
        "# 3ga 4 o'lchamli 2D arr\n",
        "arrR3 = np.random.rand(3, 4)\n",
        "arrR3"
      ],
      "metadata": {
        "colab": {
          "base_uri": "https://localhost:8080/"
        },
        "id": "tRZJZG-96YYx",
        "outputId": "fe63924b-5e9b-40ef-f94c-38202311e1d0"
      },
      "execution_count": null,
      "outputs": [
        {
          "output_type": "execute_result",
          "data": {
            "text/plain": [
              "array([[0.23112982, 0.63184033, 0.62810943, 0.23900887],\n",
              "       [0.31229249, 0.3935921 , 0.24194571, 0.17813597],\n",
              "       [0.10165389, 0.57254969, 0.77857281, 0.6269321 ]])"
            ]
          },
          "metadata": {},
          "execution_count": 32
        }
      ]
    },
    {
      "cell_type": "code",
      "source": [
        "# 3D arr\n",
        "arrR4 = np.random.rand(2, 3, 2)\n",
        "arrR4"
      ],
      "metadata": {
        "colab": {
          "base_uri": "https://localhost:8080/"
        },
        "id": "HJFm4cl36gJ0",
        "outputId": "cb0e217a-ac98-4b46-a605-6a43ada7216f"
      },
      "execution_count": null,
      "outputs": [
        {
          "output_type": "execute_result",
          "data": {
            "text/plain": [
              "array([[[0.67664015, 0.1708414 ],\n",
              "        [0.3611017 , 0.46697322],\n",
              "        [0.65411169, 0.29733239]],\n",
              "\n",
              "       [[0.88648155, 0.96020805],\n",
              "        [0.26925069, 0.13247495],\n",
              "        [0.30148504, 0.50505077]]])"
            ]
          },
          "metadata": {},
          "execution_count": 33
        }
      ]
    },
    {
      "cell_type": "markdown",
      "source": [
        "**randint - misollar ko'ramiz** | randint(3, 10) # 3~10 ga sonlardan bitta oberadi\n",
        "\n",
        "randint(2, 15, size=3) # 2~15 gacha 3 ta butun son beradi\n",
        "\n",
        "randint(0, 10, size=(3, 4)) # 0~10 gacha 3ga 4 2D arr beradi"
      ],
      "metadata": {
        "id": "9eOvf90X68VU"
      }
    },
    {
      "cell_type": "code",
      "source": [
        "# 3 va 10 oraligidan bitta son beradi\n",
        "aR1 = np.random.randint(3, 10)\n",
        "aR1"
      ],
      "metadata": {
        "colab": {
          "base_uri": "https://localhost:8080/"
        },
        "id": "A2szCh3i6nNg",
        "outputId": "f02b6e67-684e-42a5-a675-31ae17f832e5"
      },
      "execution_count": null,
      "outputs": [
        {
          "output_type": "execute_result",
          "data": {
            "text/plain": [
              "9"
            ]
          },
          "metadata": {},
          "execution_count": 34
        }
      ]
    },
    {
      "cell_type": "code",
      "source": [
        "# 2 va 15 oraligidan 4 ta son beradi\n",
        "aR2 = np.random.randint(2, 15, size=4)\n",
        "aR2"
      ],
      "metadata": {
        "colab": {
          "base_uri": "https://localhost:8080/"
        },
        "id": "EgpF4dud7FmX",
        "outputId": "434e45c5-a392-4a5a-c3ed-220223ce6501"
      },
      "execution_count": null,
      "outputs": [
        {
          "output_type": "execute_result",
          "data": {
            "text/plain": [
              "array([13,  5,  5,  6])"
            ]
          },
          "metadata": {},
          "execution_count": 35
        }
      ]
    },
    {
      "cell_type": "code",
      "source": [
        "# 4 va 23 oraligidagi 3ga 4 2D arr beradi\n",
        "aR3 = np.random.randint(4, 23, size=(3, 4))\n",
        "print(aR3)\n",
        "print(aR3.ndim)"
      ],
      "metadata": {
        "colab": {
          "base_uri": "https://localhost:8080/"
        },
        "id": "9PdCVkZe7940",
        "outputId": "9f62bcee-f90e-46a0-a90e-704886d17442"
      },
      "execution_count": null,
      "outputs": [
        {
          "output_type": "stream",
          "name": "stdout",
          "text": [
            "[[13 14 10 12]\n",
            " [10  6 12 19]\n",
            " [21 10  4 21]]\n",
            "2\n"
          ]
        }
      ]
    },
    {
      "cell_type": "code",
      "source": [
        "aR4 = np.random.randint(20, 35, size=(2, 3, 4))\n",
        "print(aR4)\n",
        "print(aR4.ndim)"
      ],
      "metadata": {
        "colab": {
          "base_uri": "https://localhost:8080/"
        },
        "id": "2znNo9Hw-RyP",
        "outputId": "ea3b8b5e-83fd-48f3-d977-4a1daaa1f5dd"
      },
      "execution_count": null,
      "outputs": [
        {
          "output_type": "stream",
          "name": "stdout",
          "text": [
            "[[[21 34 21 22]\n",
            "  [31 21 29 29]\n",
            "  [28 34 34 33]]\n",
            "\n",
            " [[24 27 26 26]\n",
            "  [23 26 24 31]\n",
            "  [21 21 27 26]]]\n",
            "3\n"
          ]
        }
      ]
    },
    {
      "cell_type": "markdown",
      "source": [
        "**randn - misollar ko'ramiz**"
      ],
      "metadata": {
        "id": "9LmxTT3H-vEI"
      }
    },
    {
      "cell_type": "code",
      "source": [
        "# 0 va 1 oraligida bazida manfiy kopincha musbat bitta son beradi\n",
        "arr_r1 = np.random.randn()\n",
        "arr_r1"
      ],
      "metadata": {
        "colab": {
          "base_uri": "https://localhost:8080/"
        },
        "id": "K7_V80sz-kYq",
        "outputId": "c1375cab-703f-4208-98bc-1a00ffc9ee52"
      },
      "execution_count": null,
      "outputs": [
        {
          "output_type": "execute_result",
          "data": {
            "text/plain": [
              "0.9479937734376171"
            ]
          },
          "metadata": {},
          "execution_count": 38
        }
      ]
    },
    {
      "cell_type": "code",
      "source": [
        "# bazilari manfiy kopinchasi musbat 5 ta son beradi\n",
        "arr_r2 = np.random.randn(5)\n",
        "arr_r2"
      ],
      "metadata": {
        "colab": {
          "base_uri": "https://localhost:8080/"
        },
        "id": "CYWi8cH--_3K",
        "outputId": "d5ae6199-d45c-4ec5-be51-429df3bdf504"
      },
      "execution_count": null,
      "outputs": [
        {
          "output_type": "execute_result",
          "data": {
            "text/plain": [
              "array([ 0.45975647,  0.5913596 , -0.00974134, -1.39479455,  1.23792139])"
            ]
          },
          "metadata": {},
          "execution_count": 39
        }
      ]
    },
    {
      "cell_type": "code",
      "source": [
        "# 3ga 4 arr beradi\n",
        "arr_r3 = np.random.randn(3, 4)\n",
        "arr_r3"
      ],
      "metadata": {
        "colab": {
          "base_uri": "https://localhost:8080/"
        },
        "id": "nP51pIEh_KtB",
        "outputId": "4a8e0bcd-3c14-456e-a035-22314d5d5245"
      },
      "execution_count": null,
      "outputs": [
        {
          "output_type": "execute_result",
          "data": {
            "text/plain": [
              "array([[ 1.20836072,  1.802469  , -0.31757097, -0.25154104],\n",
              "       [ 1.10496336, -0.4030476 , -1.43542228,  0.86910187],\n",
              "       [-0.2861899 ,  1.00415131,  0.82996974,  1.2433423 ]])"
            ]
          },
          "metadata": {},
          "execution_count": 40
        }
      ]
    },
    {
      "cell_type": "code",
      "source": [
        "# 3D arr beradi\n",
        "arr_r4 = np.random.randn(2, 3, 4)\n",
        "arr_r4"
      ],
      "metadata": {
        "colab": {
          "base_uri": "https://localhost:8080/"
        },
        "id": "JkxSAcV4_Zp3",
        "outputId": "a4adb793-2e63-4e21-b684-1f4e84dd11dd"
      },
      "execution_count": null,
      "outputs": [
        {
          "output_type": "execute_result",
          "data": {
            "text/plain": [
              "array([[[ 0.23261041, -1.5950748 ,  0.78468918, -0.7614719 ],\n",
              "        [-1.75464847, -0.04698063,  0.32058865, -0.39721265],\n",
              "        [ 0.6001358 , -1.13430397, -0.34866815,  1.07681349]],\n",
              "\n",
              "       [[-0.17285167, -0.11906091, -0.47673615, -0.28478568],\n",
              "        [-1.13112533,  1.17845774, -1.32087636,  2.42721292],\n",
              "        [-1.64418613, -1.08263899,  0.03898269,  0.67747016]]])"
            ]
          },
          "metadata": {},
          "execution_count": 41
        }
      ]
    },
    {
      "cell_type": "code",
      "source": [],
      "metadata": {
        "id": "_nJM1VKs_iJa"
      },
      "execution_count": null,
      "outputs": []
    }
  ]
}