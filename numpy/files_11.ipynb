{
  "nbformat": 4,
  "nbformat_minor": 0,
  "metadata": {
    "colab": {
      "provenance": [],
      "authorship_tag": "ABX9TyOrJ73f9Ycu+gcbIdgEvZGU",
      "include_colab_link": true
    },
    "kernelspec": {
      "name": "python3",
      "display_name": "Python 3"
    },
    "language_info": {
      "name": "python"
    }
  },
  "cells": [
    {
      "cell_type": "markdown",
      "metadata": {
        "id": "view-in-github",
        "colab_type": "text"
      },
      "source": [
        "<a href=\"https://colab.research.google.com/github/Jakbarov7/LearnDataScienceBootcamp/blob/main/numpy/files_11.ipynb\" target=\"_parent\"><img src=\"https://colab.research.google.com/assets/colab-badge.svg\" alt=\"Open In Colab\"/></a>"
      ]
    },
    {
      "cell_type": "code",
      "execution_count": 1,
      "metadata": {
        "id": "YRc-dTluI7at"
      },
      "outputs": [],
      "source": [
        "import numpy as np"
      ]
    },
    {
      "cell_type": "code",
      "source": [
        "arr = np.arange(10, 101, 10)\n",
        "arr"
      ],
      "metadata": {
        "colab": {
          "base_uri": "https://localhost:8080/"
        },
        "id": "VOjWPNm5I-dM",
        "outputId": "5bb801ee-0b6f-4104-a7b9-8515be4ea150"
      },
      "execution_count": 2,
      "outputs": [
        {
          "output_type": "execute_result",
          "data": {
            "text/plain": [
              "array([ 10,  20,  30,  40,  50,  60,  70,  80,  90, 100])"
            ]
          },
          "metadata": {},
          "execution_count": 2
        }
      ]
    },
    {
      "cell_type": "code",
      "source": [
        "arr1 = np.random.randn(4, 3)\n",
        "arr1"
      ],
      "metadata": {
        "colab": {
          "base_uri": "https://localhost:8080/"
        },
        "id": "N2yf2Yc5JBeH",
        "outputId": "7d0c0ea5-32c6-4bc3-c55f-f2076b1714c3"
      },
      "execution_count": 3,
      "outputs": [
        {
          "output_type": "execute_result",
          "data": {
            "text/plain": [
              "array([[-1.45252893,  1.75813677, -1.0468754 ],\n",
              "       [-0.04386572, -0.88145334,  0.76457706],\n",
              "       [-0.55111632,  0.93122347,  0.74008913],\n",
              "       [ 0.3019084 ,  0.68194463,  0.39340965]])"
            ]
          },
          "metadata": {},
          "execution_count": 3
        }
      ]
    },
    {
      "cell_type": "code",
      "source": [
        "arr2 = np.array(['Hasan', 'Husan', 'Olim', 'Alijon', 'Valijon', 'Teshavoy'])\n",
        "arr2"
      ],
      "metadata": {
        "colab": {
          "base_uri": "https://localhost:8080/"
        },
        "id": "0tAZPl3gJENN",
        "outputId": "26f373b8-a66b-4cd5-b56c-e57f91ccc55d"
      },
      "execution_count": 4,
      "outputs": [
        {
          "output_type": "execute_result",
          "data": {
            "text/plain": [
              "array(['Hasan', 'Husan', 'Olim', 'Alijon', 'Valijon', 'Teshavoy'],\n",
              "      dtype='<U8')"
            ]
          },
          "metadata": {},
          "execution_count": 4
        }
      ]
    },
    {
      "cell_type": "code",
      "source": [
        "# massivni faylga yozish\n",
        "np.save('Birinchi massiv', arr)"
      ],
      "metadata": {
        "id": "O_OHU8kVJLsu"
      },
      "execution_count": 5,
      "outputs": []
    },
    {
      "cell_type": "code",
      "source": [
        "# faylga yozilgan massivni o'qish\n",
        "birinchi_m = np.load('Birinchi massiv.npy')"
      ],
      "metadata": {
        "id": "vsEkN2S8JSQZ"
      },
      "execution_count": 6,
      "outputs": []
    },
    {
      "cell_type": "code",
      "source": [
        "birinchi_m"
      ],
      "metadata": {
        "colab": {
          "base_uri": "https://localhost:8080/"
        },
        "id": "p-kYYbn0JbbG",
        "outputId": "0418a79c-7b0d-4814-d4d3-126513b0d9c5"
      },
      "execution_count": 7,
      "outputs": [
        {
          "output_type": "execute_result",
          "data": {
            "text/plain": [
              "array([ 10,  20,  30,  40,  50,  60,  70,  80,  90, 100])"
            ]
          },
          "metadata": {},
          "execution_count": 7
        }
      ]
    },
    {
      "cell_type": "code",
      "source": [
        "# bir vaqtda ikki va undan ortiq massivlarni faylga yozish\n",
        "np.savez('massivlar', a=arr1, b=arr2)"
      ],
      "metadata": {
        "id": "LSHZyLKpJcgM"
      },
      "execution_count": 8,
      "outputs": []
    },
    {
      "cell_type": "code",
      "source": [
        "# bir qancha massivlar saqlangan faylni o'qish\n",
        "massivlar = np.load('massivlar.npz')\n",
        "massivlar"
      ],
      "metadata": {
        "colab": {
          "base_uri": "https://localhost:8080/"
        },
        "id": "B0PEfae4Jmam",
        "outputId": "f5eac603-8af9-4639-f83e-0fa53ca4e2e5"
      },
      "execution_count": 11,
      "outputs": [
        {
          "output_type": "execute_result",
          "data": {
            "text/plain": [
              "NpzFile 'massivlar.npz' with keys: a, b"
            ]
          },
          "metadata": {},
          "execution_count": 11
        }
      ]
    },
    {
      "cell_type": "code",
      "source": [
        "# arr1 ni olish\n",
        "massivlar['a']"
      ],
      "metadata": {
        "colab": {
          "base_uri": "https://localhost:8080/"
        },
        "id": "uIUdVZNtJxDU",
        "outputId": "3030a0ec-691a-47c3-e3be-60c05eb0f660"
      },
      "execution_count": 12,
      "outputs": [
        {
          "output_type": "execute_result",
          "data": {
            "text/plain": [
              "array([[-1.45252893,  1.75813677, -1.0468754 ],\n",
              "       [-0.04386572, -0.88145334,  0.76457706],\n",
              "       [-0.55111632,  0.93122347,  0.74008913],\n",
              "       [ 0.3019084 ,  0.68194463,  0.39340965]])"
            ]
          },
          "metadata": {},
          "execution_count": 12
        }
      ]
    },
    {
      "cell_type": "code",
      "source": [
        "# arr2 ni olish\n",
        "massivlar['b']"
      ],
      "metadata": {
        "colab": {
          "base_uri": "https://localhost:8080/"
        },
        "id": "b_ufWSL_J4wr",
        "outputId": "f2c6018e-63e0-4146-8e3b-4f2ed1240221"
      },
      "execution_count": 13,
      "outputs": [
        {
          "output_type": "execute_result",
          "data": {
            "text/plain": [
              "array(['Hasan', 'Husan', 'Olim', 'Alijon', 'Valijon', 'Teshavoy'],\n",
              "      dtype='<U8')"
            ]
          },
          "metadata": {},
          "execution_count": 13
        }
      ]
    }
  ]
}