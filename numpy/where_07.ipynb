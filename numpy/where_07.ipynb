{
  "nbformat": 4,
  "nbformat_minor": 0,
  "metadata": {
    "colab": {
      "provenance": [],
      "authorship_tag": "ABX9TyN2vy9vskGypKoO00bx6wDV",
      "include_colab_link": true
    },
    "kernelspec": {
      "name": "python3",
      "display_name": "Python 3"
    },
    "language_info": {
      "name": "python"
    }
  },
  "cells": [
    {
      "cell_type": "markdown",
      "metadata": {
        "id": "view-in-github",
        "colab_type": "text"
      },
      "source": [
        "<a href=\"https://colab.research.google.com/github/Jakbarov7/LearnDataScienceBootcamp/blob/main/numpy/where_07.ipynb\" target=\"_parent\"><img src=\"https://colab.research.google.com/assets/colab-badge.svg\" alt=\"Open In Colab\"/></a>"
      ]
    },
    {
      "cell_type": "code",
      "execution_count": 3,
      "metadata": {
        "id": "XJM2rjcfa4ul"
      },
      "outputs": [],
      "source": [
        "import numpy as np"
      ]
    },
    {
      "cell_type": "code",
      "source": [
        "arr1 = np.arange(1, 11)\n",
        "arr2 = np.arange(11, 21)\n",
        "print(arr1)\n",
        "print(arr2)"
      ],
      "metadata": {
        "colab": {
          "base_uri": "https://localhost:8080/"
        },
        "id": "nk9lZ2NDa8fF",
        "outputId": "7e040234-ef0c-4e9b-fbb6-6ce0c9b90e2e"
      },
      "execution_count": 4,
      "outputs": [
        {
          "output_type": "stream",
          "name": "stdout",
          "text": [
            "[ 1  2  3  4  5  6  7  8  9 10]\n",
            "[11 12 13 14 15 16 17 18 19 20]\n"
          ]
        }
      ]
    },
    {
      "cell_type": "code",
      "source": [
        "# shart True bo'lsa arr1 ni oladi , False bo'lganda arr2 ni oladi\n",
        "cond = np.array([True, True, False, True, False, False, True, True, False, False])\n",
        "np.where(cond, arr1, arr2)"
      ],
      "metadata": {
        "colab": {
          "base_uri": "https://localhost:8080/"
        },
        "id": "006E-ojrbEWf",
        "outputId": "728bd844-1506-4861-a4da-36a63a0e746d"
      },
      "execution_count": 7,
      "outputs": [
        {
          "output_type": "execute_result",
          "data": {
            "text/plain": [
              "array([ 1,  2, 13,  4, 15, 16,  7,  8, 19, 20])"
            ]
          },
          "metadata": {},
          "execution_count": 7
        }
      ]
    },
    {
      "cell_type": "code",
      "source": [
        "arr3 = np.array([100, 110, 113, 95, 120, 93])\n",
        "arr3"
      ],
      "metadata": {
        "colab": {
          "base_uri": "https://localhost:8080/"
        },
        "id": "W7y4C0-_beV9",
        "outputId": "c4a5f0d2-29c2-44d5-c2df-5c2e1f65ebee"
      },
      "execution_count": 8,
      "outputs": [
        {
          "output_type": "execute_result",
          "data": {
            "text/plain": [
              "array([100, 110, 113,  95, 120,  93])"
            ]
          },
          "metadata": {},
          "execution_count": 8
        }
      ]
    },
    {
      "cell_type": "code",
      "source": [
        "# agarda 100 kichik bo'lsa o'sha sonni o'zini aks holda 0 ni yozish\n",
        "result = np.where(arr3<100, arr3, 0)"
      ],
      "metadata": {
        "id": "p3YAAyrobxXa"
      },
      "execution_count": 9,
      "outputs": []
    },
    {
      "cell_type": "code",
      "source": [
        "result"
      ],
      "metadata": {
        "colab": {
          "base_uri": "https://localhost:8080/"
        },
        "id": "AW37Y3dmcEQe",
        "outputId": "c85b9dc4-0405-453c-92c6-3e6feac5b186"
      },
      "execution_count": 10,
      "outputs": [
        {
          "output_type": "execute_result",
          "data": {
            "text/plain": [
              "array([ 0,  0,  0, 95,  0, 93])"
            ]
          },
          "metadata": {},
          "execution_count": 10
        }
      ]
    },
    {
      "cell_type": "code",
      "source": [
        "indices = np.where(arr1>5)\n",
        "indices\n",
        "# bunda 5 dan katta bo'lgan elementlarni indekslarini chiqaradi"
      ],
      "metadata": {
        "colab": {
          "base_uri": "https://localhost:8080/"
        },
        "id": "2Or25YkEcE-g",
        "outputId": "b36f7d48-c629-4f6c-e812-5e36fc8a2fea"
      },
      "execution_count": 12,
      "outputs": [
        {
          "output_type": "execute_result",
          "data": {
            "text/plain": [
              "(array([5, 6, 7, 8, 9]),)"
            ]
          },
          "metadata": {},
          "execution_count": 12
        }
      ]
    },
    {
      "cell_type": "code",
      "source": [
        "arr4 = np.random.randn(4, 4)\n",
        "arr4"
      ],
      "metadata": {
        "colab": {
          "base_uri": "https://localhost:8080/"
        },
        "id": "nThevSxAcSy8",
        "outputId": "4bd4c08c-aba1-435e-8cbf-d374d4fb6af9"
      },
      "execution_count": 13,
      "outputs": [
        {
          "output_type": "execute_result",
          "data": {
            "text/plain": [
              "array([[-0.52754157, -1.24333294, -0.01961664, -0.10105819],\n",
              "       [ 0.16305774,  0.38432623,  0.06795879,  1.20144798],\n",
              "       [-0.02523476,  1.43454268,  0.86527307,  0.33963458],\n",
              "       [ 0.1705571 ,  0.30630257,  0.11466688,  2.55892718]])"
            ]
          },
          "metadata": {},
          "execution_count": 13
        }
      ]
    },
    {
      "cell_type": "code",
      "source": [
        "cond = np.where(arr4<0, 0, 1)\n",
        "cond"
      ],
      "metadata": {
        "colab": {
          "base_uri": "https://localhost:8080/"
        },
        "id": "zy44GZCHctg3",
        "outputId": "897a61cf-f5c4-46b5-d137-7f19ce206da0"
      },
      "execution_count": 14,
      "outputs": [
        {
          "output_type": "execute_result",
          "data": {
            "text/plain": [
              "array([[0, 0, 0, 0],\n",
              "       [1, 1, 1, 1],\n",
              "       [0, 1, 1, 1],\n",
              "       [1, 1, 1, 1]])"
            ]
          },
          "metadata": {},
          "execution_count": 14
        }
      ]
    }
  ]
}