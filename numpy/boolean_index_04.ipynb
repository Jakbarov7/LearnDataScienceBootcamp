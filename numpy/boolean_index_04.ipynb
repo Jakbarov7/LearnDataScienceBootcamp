{
  "nbformat": 4,
  "nbformat_minor": 0,
  "metadata": {
    "colab": {
      "provenance": [],
      "authorship_tag": "ABX9TyOpGXV9zG81I4sWmvwkPjXj",
      "include_colab_link": true
    },
    "kernelspec": {
      "name": "python3",
      "display_name": "Python 3"
    },
    "language_info": {
      "name": "python"
    }
  },
  "cells": [
    {
      "cell_type": "markdown",
      "metadata": {
        "id": "view-in-github",
        "colab_type": "text"
      },
      "source": [
        "<a href=\"https://colab.research.google.com/github/Jakbarov7/LearnDataScienceBootcamp/blob/main/numpy/boolean_index_04.ipynb\" target=\"_parent\"><img src=\"https://colab.research.google.com/assets/colab-badge.svg\" alt=\"Open In Colab\"/></a>"
      ]
    },
    {
      "cell_type": "code",
      "execution_count": 1,
      "metadata": {
        "id": "4YMVaojBeY2M"
      },
      "outputs": [],
      "source": [
        "import numpy as np"
      ]
    },
    {
      "cell_type": "code",
      "source": [
        "arr1 = np.arange(10, 101, 10)\n",
        "arr1"
      ],
      "metadata": {
        "id": "lt-vhf-Ppayl",
        "colab": {
          "base_uri": "https://localhost:8080/"
        },
        "outputId": "7378ca55-4cb2-491b-b82d-2a0668488509"
      },
      "execution_count": 2,
      "outputs": [
        {
          "output_type": "execute_result",
          "data": {
            "text/plain": [
              "array([ 10,  20,  30,  40,  50,  60,  70,  80,  90, 100])"
            ]
          },
          "metadata": {},
          "execution_count": 2
        }
      ]
    },
    {
      "cell_type": "code",
      "source": [
        "# 50 dan yuqori sonlarni boolean indekslash bilan olish\n",
        "arr1_bool = arr1 > 50\n",
        "arr1_bool"
      ],
      "metadata": {
        "colab": {
          "base_uri": "https://localhost:8080/"
        },
        "id": "zFSFKp-QBhqX",
        "outputId": "51d4b95d-8ec7-4f1f-8a5a-47eb7c3bb3f6"
      },
      "execution_count": 3,
      "outputs": [
        {
          "output_type": "execute_result",
          "data": {
            "text/plain": [
              "array([False, False, False, False, False,  True,  True,  True,  True,\n",
              "        True])"
            ]
          },
          "metadata": {},
          "execution_count": 3
        }
      ]
    },
    {
      "cell_type": "code",
      "source": [
        "arr1[arr1_bool]"
      ],
      "metadata": {
        "colab": {
          "base_uri": "https://localhost:8080/"
        },
        "id": "oR3MyG0uBpPS",
        "outputId": "b089f81e-c0ef-4be3-ebc7-93b97360c275"
      },
      "execution_count": 4,
      "outputs": [
        {
          "output_type": "execute_result",
          "data": {
            "text/plain": [
              "array([ 60,  70,  80,  90, 100])"
            ]
          },
          "metadata": {},
          "execution_count": 4
        }
      ]
    },
    {
      "cell_type": "code",
      "source": [
        "names = np.array(['Hasan', 'Husan', 'Ali', 'Vali', 'Hasan', 'Elyor', 'Husan', 'Vali', 'Samandar'])\n",
        "names"
      ],
      "metadata": {
        "colab": {
          "base_uri": "https://localhost:8080/"
        },
        "id": "wP53B5lFBrNh",
        "outputId": "c86d69c9-bc45-4afd-9dbe-b857d8d1fd85"
      },
      "execution_count": 5,
      "outputs": [
        {
          "output_type": "execute_result",
          "data": {
            "text/plain": [
              "array(['Hasan', 'Husan', 'Ali', 'Vali', 'Hasan', 'Elyor', 'Husan', 'Vali',\n",
              "       'Samandar'], dtype='<U8')"
            ]
          },
          "metadata": {},
          "execution_count": 5
        }
      ]
    },
    {
      "cell_type": "code",
      "source": [
        "names_bool = (names == 'Hasan')\n",
        "names_bool"
      ],
      "metadata": {
        "colab": {
          "base_uri": "https://localhost:8080/"
        },
        "id": "IcH__R2qB4AG",
        "outputId": "2902a4f0-b23e-40f0-fe1b-92eb5e66d61d"
      },
      "execution_count": 6,
      "outputs": [
        {
          "output_type": "execute_result",
          "data": {
            "text/plain": [
              "array([ True, False, False, False,  True, False, False, False, False])"
            ]
          },
          "metadata": {},
          "execution_count": 6
        }
      ]
    },
    {
      "cell_type": "code",
      "source": [
        "names[names_bool]"
      ],
      "metadata": {
        "colab": {
          "base_uri": "https://localhost:8080/"
        },
        "id": "ut9Z-FrIB97O",
        "outputId": "d4581166-4689-4cfe-abc2-4546e242876f"
      },
      "execution_count": 7,
      "outputs": [
        {
          "output_type": "execute_result",
          "data": {
            "text/plain": [
              "array(['Hasan', 'Hasan'], dtype='<U8')"
            ]
          },
          "metadata": {},
          "execution_count": 7
        }
      ]
    },
    {
      "cell_type": "code",
      "source": [
        "arr2 = np.arange(1, 11)\n",
        "arr2"
      ],
      "metadata": {
        "colab": {
          "base_uri": "https://localhost:8080/"
        },
        "id": "ScKuzOxRCAFJ",
        "outputId": "2d50c5c2-33b3-40d6-96e5-ba07cd4892ef"
      },
      "execution_count": 8,
      "outputs": [
        {
          "output_type": "execute_result",
          "data": {
            "text/plain": [
              "array([ 1,  2,  3,  4,  5,  6,  7,  8,  9, 10])"
            ]
          },
          "metadata": {},
          "execution_count": 8
        }
      ]
    },
    {
      "cell_type": "code",
      "source": [
        "# qoldiqli sonlarni boolean indekslash bilan olish\n",
        "arr2_bool = (arr2 % 2 != 0)\n",
        "arr2_bool"
      ],
      "metadata": {
        "colab": {
          "base_uri": "https://localhost:8080/"
        },
        "id": "hcNpdIIQCLPP",
        "outputId": "ec3207d7-982e-44de-a0c7-391e776101a1"
      },
      "execution_count": 9,
      "outputs": [
        {
          "output_type": "execute_result",
          "data": {
            "text/plain": [
              "array([ True, False,  True, False,  True, False,  True, False,  True,\n",
              "       False])"
            ]
          },
          "metadata": {},
          "execution_count": 9
        }
      ]
    },
    {
      "cell_type": "code",
      "source": [
        "arr2[arr2_bool]"
      ],
      "metadata": {
        "colab": {
          "base_uri": "https://localhost:8080/"
        },
        "id": "mCqM5z_TCaTo",
        "outputId": "fdeb3524-e29e-4b60-d00e-bf98b5cb8f57"
      },
      "execution_count": 10,
      "outputs": [
        {
          "output_type": "execute_result",
          "data": {
            "text/plain": [
              "array([1, 3, 5, 7, 9])"
            ]
          },
          "metadata": {},
          "execution_count": 10
        }
      ]
    },
    {
      "cell_type": "code",
      "source": [
        "# juft sonlarni boolean indekslash yordamida olish\n",
        "arr2_even = (arr2 % 2 == 0)\n",
        "arr2_even"
      ],
      "metadata": {
        "colab": {
          "base_uri": "https://localhost:8080/"
        },
        "id": "64HyLn-YCdOH",
        "outputId": "0d18f5a7-11f9-4a8c-94ee-7177c0d692e9"
      },
      "execution_count": 11,
      "outputs": [
        {
          "output_type": "execute_result",
          "data": {
            "text/plain": [
              "array([False,  True, False,  True, False,  True, False,  True, False,\n",
              "        True])"
            ]
          },
          "metadata": {},
          "execution_count": 11
        }
      ]
    },
    {
      "cell_type": "code",
      "source": [
        "arr2[arr2_even]"
      ],
      "metadata": {
        "colab": {
          "base_uri": "https://localhost:8080/"
        },
        "id": "nNBoba1kCnbS",
        "outputId": "54053cd0-bb80-4ca3-9f84-6cdeae8f4d57"
      },
      "execution_count": 12,
      "outputs": [
        {
          "output_type": "execute_result",
          "data": {
            "text/plain": [
              "array([ 2,  4,  6,  8, 10])"
            ]
          },
          "metadata": {},
          "execution_count": 12
        }
      ]
    },
    {
      "cell_type": "code",
      "source": [
        "names = np.array(['Hasan', 'Husan', 'Mirasil', 'Elyor', 'Hasan', 'Abdurashid', 'Elyor', 'Samandar', 'Javlon'])\n",
        "data = np.random.randn(9, 4)\n",
        "print(names)\n",
        "print(data)"
      ],
      "metadata": {
        "colab": {
          "base_uri": "https://localhost:8080/"
        },
        "id": "tjFQykudCpLV",
        "outputId": "ec1e5327-4176-4097-9630-fa6369dfc0cb"
      },
      "execution_count": 13,
      "outputs": [
        {
          "output_type": "stream",
          "name": "stdout",
          "text": [
            "['Hasan' 'Husan' 'Mirasil' 'Elyor' 'Hasan' 'Abdurashid' 'Elyor' 'Samandar'\n",
            " 'Javlon']\n",
            "[[ 0.20457603  0.55837733 -0.08757705  0.21832374]\n",
            " [ 1.05963767  0.52931394  0.8513215  -0.72357758]\n",
            " [ 0.33738559 -0.11556443 -1.95124554 -0.38387169]\n",
            " [-2.06410615  0.14161197 -1.21070827 -0.09186457]\n",
            " [ 1.88743775 -1.37466192  0.89383742 -0.08434933]\n",
            " [ 1.4483409  -0.89190835  0.65105365 -0.30590373]\n",
            " [-0.27282516 -0.52878736  0.9021734   0.21018736]\n",
            " [-1.39977038 -0.227824   -0.38542281  0.20040654]\n",
            " [ 2.0337312  -0.04880847 -2.07393834  0.47765687]]\n"
          ]
        }
      ]
    },
    {
      "cell_type": "code",
      "source": [
        "names == 'Elyor'"
      ],
      "metadata": {
        "colab": {
          "base_uri": "https://localhost:8080/"
        },
        "id": "9SonRaomDWFB",
        "outputId": "8a58635f-2013-4bfe-e110-91041d7243ed"
      },
      "execution_count": 14,
      "outputs": [
        {
          "output_type": "execute_result",
          "data": {
            "text/plain": [
              "array([False, False, False,  True, False, False,  True, False, False])"
            ]
          },
          "metadata": {},
          "execution_count": 14
        }
      ]
    },
    {
      "cell_type": "code",
      "source": [
        "# Elyorga tegishli ma'lumotlarni olish\n",
        "data[names == 'Elyor']"
      ],
      "metadata": {
        "colab": {
          "base_uri": "https://localhost:8080/"
        },
        "id": "_Sth586lDu0v",
        "outputId": "8683ccfd-9eb4-4c79-a982-1b60c85e9800"
      },
      "execution_count": 15,
      "outputs": [
        {
          "output_type": "execute_result",
          "data": {
            "text/plain": [
              "array([[-2.06410615,  0.14161197, -1.21070827, -0.09186457],\n",
              "       [-0.27282516, -0.52878736,  0.9021734 ,  0.21018736]])"
            ]
          },
          "metadata": {},
          "execution_count": 15
        }
      ]
    },
    {
      "cell_type": "code",
      "source": [
        "# Elyorga tegishli ma'lumotlarni ohirgi ikki qatorini olish\n",
        "data[names == 'Elyor', -1]"
      ],
      "metadata": {
        "colab": {
          "base_uri": "https://localhost:8080/"
        },
        "id": "b_uLJ6uOD0JO",
        "outputId": "80cafb7d-3572-4d77-fd6e-5b5f37086f01"
      },
      "execution_count": 16,
      "outputs": [
        {
          "output_type": "execute_result",
          "data": {
            "text/plain": [
              "array([-0.09186457,  0.21018736])"
            ]
          },
          "metadata": {},
          "execution_count": 16
        }
      ]
    },
    {
      "cell_type": "code",
      "source": [
        "# 1-ustun ma'lumotlarini olish\n",
        "data[names == 'Elyor', 1]"
      ],
      "metadata": {
        "colab": {
          "base_uri": "https://localhost:8080/"
        },
        "id": "rpiYAZHcD7ov",
        "outputId": "45d46310-a5ad-44a5-f0a5-6439b99b1f5e"
      },
      "execution_count": 17,
      "outputs": [
        {
          "output_type": "execute_result",
          "data": {
            "text/plain": [
              "array([ 0.14161197, -0.52878736])"
            ]
          },
          "metadata": {},
          "execution_count": 17
        }
      ]
    },
    {
      "cell_type": "code",
      "source": [
        "# Elyordan boshqa barcha insonlarni ma'lumotlarini olish\n",
        "data[names != 'Elyor']"
      ],
      "metadata": {
        "colab": {
          "base_uri": "https://localhost:8080/"
        },
        "id": "HqiNkUCiD93C",
        "outputId": "d24e4309-ea5e-41ac-b4f6-a1f52afddd07"
      },
      "execution_count": 20,
      "outputs": [
        {
          "output_type": "execute_result",
          "data": {
            "text/plain": [
              "array([[ 0.20457603,  0.55837733, -0.08757705,  0.21832374],\n",
              "       [ 1.05963767,  0.52931394,  0.8513215 , -0.72357758],\n",
              "       [ 0.33738559, -0.11556443, -1.95124554, -0.38387169],\n",
              "       [ 1.88743775, -1.37466192,  0.89383742, -0.08434933],\n",
              "       [ 1.4483409 , -0.89190835,  0.65105365, -0.30590373],\n",
              "       [-1.39977038, -0.227824  , -0.38542281,  0.20040654],\n",
              "       [ 2.0337312 , -0.04880847, -2.07393834,  0.47765687]])"
            ]
          },
          "metadata": {},
          "execution_count": 20
        }
      ]
    },
    {
      "cell_type": "code",
      "source": [
        "# yuqoridagi bilan bir xil natija beradi\n",
        "data[~(names == 'Elyor')]"
      ],
      "metadata": {
        "colab": {
          "base_uri": "https://localhost:8080/"
        },
        "id": "C4zz7obQEEYn",
        "outputId": "7e900806-e350-48ab-9e0d-825aac7c011f"
      },
      "execution_count": 22,
      "outputs": [
        {
          "output_type": "execute_result",
          "data": {
            "text/plain": [
              "array([[ 0.20457603,  0.55837733, -0.08757705,  0.21832374],\n",
              "       [ 1.05963767,  0.52931394,  0.8513215 , -0.72357758],\n",
              "       [ 0.33738559, -0.11556443, -1.95124554, -0.38387169],\n",
              "       [ 1.88743775, -1.37466192,  0.89383742, -0.08434933],\n",
              "       [ 1.4483409 , -0.89190835,  0.65105365, -0.30590373],\n",
              "       [-1.39977038, -0.227824  , -0.38542281,  0.20040654],\n",
              "       [ 2.0337312 , -0.04880847, -2.07393834,  0.47765687]])"
            ]
          },
          "metadata": {},
          "execution_count": 22
        }
      ]
    },
    {
      "cell_type": "code",
      "source": [
        "# bir vaqtning o'zida ikki va undan ortiq insonlarni ma'lumotlarini olish\n",
        "mask = (names == 'Elyor') | (names == 'Hasan')\n",
        "mask"
      ],
      "metadata": {
        "colab": {
          "base_uri": "https://localhost:8080/"
        },
        "id": "26mUmjdBETDg",
        "outputId": "9b425d2a-8e2a-413e-986a-6338fa5c11f0"
      },
      "execution_count": 24,
      "outputs": [
        {
          "output_type": "execute_result",
          "data": {
            "text/plain": [
              "array([ True, False, False,  True,  True, False,  True, False, False])"
            ]
          },
          "metadata": {},
          "execution_count": 24
        }
      ]
    },
    {
      "cell_type": "code",
      "source": [
        "data[mask]"
      ],
      "metadata": {
        "colab": {
          "base_uri": "https://localhost:8080/"
        },
        "id": "gOxojgMLEquo",
        "outputId": "800b8fbb-3605-47b1-ef0f-a720b5f56d68"
      },
      "execution_count": 27,
      "outputs": [
        {
          "output_type": "execute_result",
          "data": {
            "text/plain": [
              "array([[ 0.20457603,  0.55837733, -0.08757705,  0.21832374],\n",
              "       [-2.06410615,  0.14161197, -1.21070827, -0.09186457],\n",
              "       [ 1.88743775, -1.37466192,  0.89383742, -0.08434933],\n",
              "       [-0.27282516, -0.52878736,  0.9021734 ,  0.21018736]])"
            ]
          },
          "metadata": {},
          "execution_count": 27
        }
      ]
    },
    {
      "cell_type": "code",
      "source": [
        "data[mask, -1]"
      ],
      "metadata": {
        "colab": {
          "base_uri": "https://localhost:8080/"
        },
        "id": "zfXp6ArAEv_O",
        "outputId": "5f205ca6-8361-49b2-ecdc-921dbd8dbea4"
      },
      "execution_count": 28,
      "outputs": [
        {
          "output_type": "execute_result",
          "data": {
            "text/plain": [
              "array([ 0.21832374, -0.09186457, -0.08434933,  0.21018736])"
            ]
          },
          "metadata": {},
          "execution_count": 28
        }
      ]
    }
  ]
}