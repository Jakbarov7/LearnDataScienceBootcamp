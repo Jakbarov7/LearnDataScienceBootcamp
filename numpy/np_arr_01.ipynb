{
  "nbformat": 4,
  "nbformat_minor": 0,
  "metadata": {
    "colab": {
      "provenance": [],
      "authorship_tag": "ABX9TyOUM34j4XXk1GDxnpQ2DCsd",
      "include_colab_link": true
    },
    "kernelspec": {
      "name": "python3",
      "display_name": "Python 3"
    },
    "language_info": {
      "name": "python"
    }
  },
  "cells": [
    {
      "cell_type": "markdown",
      "metadata": {
        "id": "view-in-github",
        "colab_type": "text"
      },
      "source": [
        "<a href=\"https://colab.research.google.com/github/Jakbarov7/LearnDataScienceBootcamp/blob/main/numpy/np_arr_01.ipynb\" target=\"_parent\"><img src=\"https://colab.research.google.com/assets/colab-badge.svg\" alt=\"Open In Colab\"/></a>"
      ]
    },
    {
      "cell_type": "code",
      "execution_count": 1,
      "metadata": {
        "id": "c37_CtUS2qlr"
      },
      "outputs": [],
      "source": [
        "import numpy as np"
      ]
    },
    {
      "cell_type": "code",
      "source": [
        "# array funksiyasi bilan massiv yaratish\n",
        "lst = [2, 4, 6, 8, 10]\n",
        "arr1 = np.array(lst)\n",
        "arr1"
      ],
      "metadata": {
        "colab": {
          "base_uri": "https://localhost:8080/"
        },
        "id": "mv-BvqoS2uDF",
        "outputId": "35701d9e-68d3-4433-f82c-18cb5b6b367c"
      },
      "execution_count": 2,
      "outputs": [
        {
          "output_type": "execute_result",
          "data": {
            "text/plain": [
              "array([ 2,  4,  6,  8, 10])"
            ]
          },
          "metadata": {},
          "execution_count": 2
        }
      ]
    },
    {
      "cell_type": "code",
      "source": [
        "print(type(lst))\n",
        "print(type(arr1))"
      ],
      "metadata": {
        "colab": {
          "base_uri": "https://localhost:8080/"
        },
        "id": "Ficqxd963N7s",
        "outputId": "fe646a41-0bbf-4032-fb17-2eaa5180a6ef"
      },
      "execution_count": 3,
      "outputs": [
        {
          "output_type": "stream",
          "name": "stdout",
          "text": [
            "<class 'list'>\n",
            "<class 'numpy.ndarray'>\n"
          ]
        }
      ]
    },
    {
      "cell_type": "code",
      "source": [
        "lst2 = [-1.1, 2, -3.2, 0, 4, 5.4]\n",
        "arr2 = np.array(lst2)\n",
        "arr2"
      ],
      "metadata": {
        "colab": {
          "base_uri": "https://localhost:8080/"
        },
        "id": "SMwltNIN3Q7B",
        "outputId": "a5ebbf32-4f91-47bf-e215-8aaa92766359"
      },
      "execution_count": 4,
      "outputs": [
        {
          "output_type": "execute_result",
          "data": {
            "text/plain": [
              "array([-1.1,  2. , -3.2,  0. ,  4. ,  5.4])"
            ]
          },
          "metadata": {},
          "execution_count": 4
        }
      ]
    },
    {
      "cell_type": "code",
      "source": [
        "tpl = (1.1, 2, -3.1, 4.2, -5.3, 6)\n",
        "arr3 = np.array(tpl)\n",
        "arr3"
      ],
      "metadata": {
        "colab": {
          "base_uri": "https://localhost:8080/"
        },
        "id": "kkpA8JQ23YZg",
        "outputId": "e88c8b9e-4276-4ab0-b126-56da99678337"
      },
      "execution_count": 5,
      "outputs": [
        {
          "output_type": "execute_result",
          "data": {
            "text/plain": [
              "array([ 1.1,  2. , -3.1,  4.2, -5.3,  6. ])"
            ]
          },
          "metadata": {},
          "execution_count": 5
        }
      ]
    },
    {
      "cell_type": "code",
      "source": [
        "print(type(tpl))\n",
        "print(type(arr3))"
      ],
      "metadata": {
        "colab": {
          "base_uri": "https://localhost:8080/"
        },
        "id": "mSfw96RI3jhJ",
        "outputId": "fb1768d8-b3c0-47a9-c8f4-776d87b2e56a"
      },
      "execution_count": 6,
      "outputs": [
        {
          "output_type": "stream",
          "name": "stdout",
          "text": [
            "<class 'tuple'>\n",
            "<class 'numpy.ndarray'>\n"
          ]
        }
      ]
    },
    {
      "cell_type": "code",
      "source": [
        "# massivning hajmini aniqlash\n",
        "print(arr1.ndim)\n",
        "print(arr2.ndim)\n",
        "print(arr3.ndim)"
      ],
      "metadata": {
        "colab": {
          "base_uri": "https://localhost:8080/"
        },
        "id": "oIyRqOcu3ndI",
        "outputId": "f854a65a-8892-4b6e-e705-26a7803d8c3d"
      },
      "execution_count": 7,
      "outputs": [
        {
          "output_type": "stream",
          "name": "stdout",
          "text": [
            "1\n",
            "1\n",
            "1\n"
          ]
        }
      ]
    },
    {
      "cell_type": "code",
      "source": [
        "# massivning qator va ustunlar sonini aniqlash\n",
        "print(arr1.shape)\n",
        "print(arr2.shape)\n",
        "print(arr3.shape)"
      ],
      "metadata": {
        "colab": {
          "base_uri": "https://localhost:8080/"
        },
        "id": "12KT1K8u3wmn",
        "outputId": "3f3fd501-20d2-4305-b139-4b3b0e0d2c49"
      },
      "execution_count": 9,
      "outputs": [
        {
          "output_type": "stream",
          "name": "stdout",
          "text": [
            "(5,)\n",
            "(6,)\n",
            "(6,)\n"
          ]
        }
      ]
    },
    {
      "cell_type": "code",
      "source": [
        "# massivning nechta elementi borligini aniqlash\n",
        "print(arr1.size)\n",
        "print(arr2.size)\n",
        "print(arr3.size)"
      ],
      "metadata": {
        "colab": {
          "base_uri": "https://localhost:8080/"
        },
        "id": "n1FKcT2Y34ax",
        "outputId": "9d23e1d3-61f3-4b8b-e0bf-99bb5d57ca28"
      },
      "execution_count": 11,
      "outputs": [
        {
          "output_type": "stream",
          "name": "stdout",
          "text": [
            "5\n",
            "6\n",
            "6\n"
          ]
        }
      ]
    },
    {
      "cell_type": "markdown",
      "source": [
        "**massiv yaratishni boshqa usullari :**\n",
        "- arange\n",
        "- zeros , ones"
      ],
      "metadata": {
        "id": "lNDRhdQZ4Cwx"
      }
    },
    {
      "cell_type": "code",
      "source": [
        "# arange : start, stop, step\n",
        "arr4 = np.arange(1, 11) # 1-10\n",
        "arr4"
      ],
      "metadata": {
        "colab": {
          "base_uri": "https://localhost:8080/"
        },
        "id": "D47EnOOx4Amk",
        "outputId": "7e042724-9908-43f0-86e0-21f75f8b8bed"
      },
      "execution_count": 12,
      "outputs": [
        {
          "output_type": "execute_result",
          "data": {
            "text/plain": [
              "array([ 1,  2,  3,  4,  5,  6,  7,  8,  9, 10])"
            ]
          },
          "metadata": {},
          "execution_count": 12
        }
      ]
    },
    {
      "cell_type": "code",
      "source": [
        "type(arr4)"
      ],
      "metadata": {
        "colab": {
          "base_uri": "https://localhost:8080/"
        },
        "id": "vhWiaNY64TGl",
        "outputId": "fb85e341-b9a1-46c0-e8a6-e8e86d6be1e6"
      },
      "execution_count": 13,
      "outputs": [
        {
          "output_type": "execute_result",
          "data": {
            "text/plain": [
              "numpy.ndarray"
            ]
          },
          "metadata": {},
          "execution_count": 13
        }
      ]
    },
    {
      "cell_type": "code",
      "source": [
        "arr5 = np.arange(10, 101, 10)\n",
        "arr5"
      ],
      "metadata": {
        "colab": {
          "base_uri": "https://localhost:8080/"
        },
        "id": "AzRCD25Z4Ubp",
        "outputId": "0a035a56-2e67-4aa1-e3f1-51bb6b0f60f1"
      },
      "execution_count": 14,
      "outputs": [
        {
          "output_type": "execute_result",
          "data": {
            "text/plain": [
              "array([ 10,  20,  30,  40,  50,  60,  70,  80,  90, 100])"
            ]
          },
          "metadata": {},
          "execution_count": 14
        }
      ]
    },
    {
      "cell_type": "code",
      "source": [
        "arr6 = np.arange(20)\n",
        "arr6"
      ],
      "metadata": {
        "colab": {
          "base_uri": "https://localhost:8080/"
        },
        "id": "DGhPOCog4aoB",
        "outputId": "7ebedf7c-f245-4b7e-ef4a-6cc56b60325b"
      },
      "execution_count": 15,
      "outputs": [
        {
          "output_type": "execute_result",
          "data": {
            "text/plain": [
              "array([ 0,  1,  2,  3,  4,  5,  6,  7,  8,  9, 10, 11, 12, 13, 14, 15, 16,\n",
              "       17, 18, 19])"
            ]
          },
          "metadata": {},
          "execution_count": 15
        }
      ]
    },
    {
      "cell_type": "code",
      "source": [
        "arr7 = np.zeros((3, 2))\n",
        "arr7"
      ],
      "metadata": {
        "colab": {
          "base_uri": "https://localhost:8080/"
        },
        "id": "jYrS5VIq4dyS",
        "outputId": "aff9c126-4d3c-4e7b-8c16-a8999ad67e3c"
      },
      "execution_count": 16,
      "outputs": [
        {
          "output_type": "execute_result",
          "data": {
            "text/plain": [
              "array([[0., 0.],\n",
              "       [0., 0.],\n",
              "       [0., 0.]])"
            ]
          },
          "metadata": {},
          "execution_count": 16
        }
      ]
    },
    {
      "cell_type": "code",
      "source": [
        "arr8 = np.ones((4, 4))\n",
        "arr8"
      ],
      "metadata": {
        "colab": {
          "base_uri": "https://localhost:8080/"
        },
        "id": "FaDiTBwU4hiE",
        "outputId": "4e9f5b6d-4fb2-4e51-a2ca-f6b33da58b5e"
      },
      "execution_count": 17,
      "outputs": [
        {
          "output_type": "execute_result",
          "data": {
            "text/plain": [
              "array([[1., 1., 1., 1.],\n",
              "       [1., 1., 1., 1.],\n",
              "       [1., 1., 1., 1.],\n",
              "       [1., 1., 1., 1.]])"
            ]
          },
          "metadata": {},
          "execution_count": 17
        }
      ]
    },
    {
      "cell_type": "code",
      "source": [
        "print(arr8.shape)\n",
        "print(arr8.size)"
      ],
      "metadata": {
        "colab": {
          "base_uri": "https://localhost:8080/"
        },
        "id": "wpvJRQIw4kNf",
        "outputId": "44ad7768-519e-43fd-8b38-befdd078b7d3"
      },
      "execution_count": 18,
      "outputs": [
        {
          "output_type": "stream",
          "name": "stdout",
          "text": [
            "(4, 4)\n",
            "16\n"
          ]
        }
      ]
    },
    {
      "cell_type": "markdown",
      "source": [
        "**ikki va uch o'lchovli massivlar yaratish**"
      ],
      "metadata": {
        "id": "En1KEVFI4qPw"
      }
    },
    {
      "cell_type": "code",
      "source": [
        "# 2D massiv yaratish - python_nested_list\n",
        "arr9 = np.array([[1, 2, 3], [4, 5, 6], [7, 8, 9]])\n",
        "arr9"
      ],
      "metadata": {
        "colab": {
          "base_uri": "https://localhost:8080/"
        },
        "id": "7I-XQk7G4oiz",
        "outputId": "380f57f5-2f95-47ed-ca7a-2743fd7713da"
      },
      "execution_count": 23,
      "outputs": [
        {
          "output_type": "execute_result",
          "data": {
            "text/plain": [
              "array([[1, 2, 3],\n",
              "       [4, 5, 6],\n",
              "       [7, 8, 9]])"
            ]
          },
          "metadata": {},
          "execution_count": 23
        }
      ]
    },
    {
      "cell_type": "code",
      "source": [
        "arr9.ndim"
      ],
      "metadata": {
        "colab": {
          "base_uri": "https://localhost:8080/"
        },
        "id": "I4E15BZT41pJ",
        "outputId": "6ac9aafd-3b01-4d09-8c5c-c46c4678c479"
      },
      "execution_count": 24,
      "outputs": [
        {
          "output_type": "execute_result",
          "data": {
            "text/plain": [
              "2"
            ]
          },
          "metadata": {},
          "execution_count": 24
        }
      ]
    },
    {
      "cell_type": "code",
      "source": [
        "arr9.shape"
      ],
      "metadata": {
        "colab": {
          "base_uri": "https://localhost:8080/"
        },
        "id": "CnD18I9C42d8",
        "outputId": "cac106dd-6e15-4f34-bfb5-f44df04fb6b9"
      },
      "execution_count": 25,
      "outputs": [
        {
          "output_type": "execute_result",
          "data": {
            "text/plain": [
              "(3, 3)"
            ]
          },
          "metadata": {},
          "execution_count": 25
        }
      ]
    },
    {
      "cell_type": "code",
      "source": [
        "arr9.size"
      ],
      "metadata": {
        "colab": {
          "base_uri": "https://localhost:8080/"
        },
        "id": "e7BP-HhX43Oc",
        "outputId": "2c88c2d1-c6ed-4fe3-ec3d-ee7b7d09079f"
      },
      "execution_count": 26,
      "outputs": [
        {
          "output_type": "execute_result",
          "data": {
            "text/plain": [
              "9"
            ]
          },
          "metadata": {},
          "execution_count": 26
        }
      ]
    },
    {
      "cell_type": "code",
      "source": [
        "lst10 = [[-1, -2, -3], [-4, -5, -6], [-7, -8, -9]]\n",
        "arr10 = np.array(lst10)\n",
        "arr10"
      ],
      "metadata": {
        "colab": {
          "base_uri": "https://localhost:8080/"
        },
        "id": "rgQqisnJ44Bv",
        "outputId": "119d8fdd-8e63-49a5-f260-cb8d4bfb3739"
      },
      "execution_count": 27,
      "outputs": [
        {
          "output_type": "execute_result",
          "data": {
            "text/plain": [
              "array([[-1, -2, -3],\n",
              "       [-4, -5, -6],\n",
              "       [-7, -8, -9]])"
            ]
          },
          "metadata": {},
          "execution_count": 27
        }
      ]
    },
    {
      "cell_type": "code",
      "source": [
        "# 3D massiv yaratish\n",
        "lst_3D = [[[1, 2, 3], [4, 5, 6]], [[7, 8, 9], [10, 11, 12]]]\n",
        "arr_3D = np.array(lst_3D)\n",
        "arr_3D"
      ],
      "metadata": {
        "colab": {
          "base_uri": "https://localhost:8080/"
        },
        "id": "G3y77Qsk5Eh9",
        "outputId": "8b264ada-91b2-4de7-8a30-c462467c5c59"
      },
      "execution_count": 28,
      "outputs": [
        {
          "output_type": "execute_result",
          "data": {
            "text/plain": [
              "array([[[ 1,  2,  3],\n",
              "        [ 4,  5,  6]],\n",
              "\n",
              "       [[ 7,  8,  9],\n",
              "        [10, 11, 12]]])"
            ]
          },
          "metadata": {},
          "execution_count": 28
        }
      ]
    },
    {
      "cell_type": "code",
      "source": [
        "print(arr_3D.ndim)\n",
        "print(arr_3D.shape)\n",
        "print(arr_3D.size)"
      ],
      "metadata": {
        "colab": {
          "base_uri": "https://localhost:8080/"
        },
        "id": "-KGTP6uI5R72",
        "outputId": "8ebb4076-4dab-4790-fc28-7f748333a7a8"
      },
      "execution_count": 29,
      "outputs": [
        {
          "output_type": "stream",
          "name": "stdout",
          "text": [
            "3\n",
            "(2, 2, 3)\n",
            "12\n"
          ]
        }
      ]
    }
  ]
}